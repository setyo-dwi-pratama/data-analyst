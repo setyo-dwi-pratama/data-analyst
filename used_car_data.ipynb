{
  "nbformat": 4,
  "nbformat_minor": 0,
  "metadata": {
    "colab": {
      "name": "used_car_data.ipynb",
      "provenance": [],
      "authorship_tag": "ABX9TyPFQ9jNj/6bgPPPwI4YcvjX",
      "include_colab_link": true
    },
    "kernelspec": {
      "name": "python3",
      "display_name": "Python 3"
    },
    "accelerator": "GPU"
  },
  "cells": [
    {
      "cell_type": "markdown",
      "metadata": {
        "id": "view-in-github",
        "colab_type": "text"
      },
      "source": [
        "<a href=\"https://colab.research.google.com/github/setyo-dwi-pratama/data-analyst/blob/master/used_car_data.ipynb\" target=\"_parent\"><img src=\"https://colab.research.google.com/assets/colab-badge.svg\" alt=\"Open In Colab\"/></a>"
      ]
    },
    {
      "cell_type": "markdown",
      "metadata": {
        "id": "kLZ_2hUIk6sn",
        "colab_type": "text"
      },
      "source": [
        "# **MOBIL BEKAS DI INDIA**\n"
      ]
    },
    {
      "cell_type": "markdown",
      "metadata": {
        "id": "FYaAntbsnEQ0",
        "colab_type": "text"
      },
      "source": [
        "\n",
        "\n",
        "Dataset merupakan data mobil bekas yang terdapat di india yang terdiri 6019 baris dan 12 kolom. Kolom yang terdapat pada dataset meliputi:\n",
        "\n",
        "* Name : Nama merek dan model mobil\n",
        "\n",
        "* Location : Lokasi mobil dijual\n",
        "\n",
        "* Year : Tahun edisi mobil\n",
        "\n",
        "* Kilometers_Driven : Total jarak pemakaian mobil oleh pengguna sebelumnya dalam satuan kilometer\n",
        "\n",
        "* Fuel_Type : Tipe bahan bakar yang digunakan mobil (Petrol/Diesel/Electric/CNG/LPG)\n",
        "\n",
        "* Transmission : Tipe transmisi yang digunakan mobil (Automatic/Manual)\n",
        "\n",
        "* Owner_Type : Jenis kepemilikan mobil (First/Second/Third/Fourth & Above)\n",
        "\n",
        "* Mileage : Tingkat konsumsi bahan bakar dalam satuan kmpl atau km/kg\n",
        "\n",
        "* Engine : Kapasitas mesin mobil dalam satuan CC\n",
        "\n",
        "* Power : Tenaga maksimum dari mesin mobil dalam satuan bph\n",
        "\n",
        "* Seats : Jumlahlah kursi pada mobil\n",
        "\n",
        "* Price : Harga mobil bekas dalam satuan INR Lakhs (Indian Rupee)\n",
        "\n"
      ]
    },
    {
      "cell_type": "markdown",
      "metadata": {
        "id": "nPcmpA8nnIrh",
        "colab_type": "text"
      },
      "source": [
        "Soal:\n",
        "1. Merek mobil apa saja yang tersedia dan ada berapa banyak mobil untuk tiap merek\n",
        "tersebut?\n",
        "2. Kota apa yang memiliki mobil bekas paling banyak?\n",
        "3. Bagaimana distribusi tahun edisi mobil-mobil bekas tersebut?\n",
        "4. Berapa banyak mobil yang memiliki total jarak pemakaian di bawah 100.000 kilometer?\n",
        "5. Pada batas berapa kilometer total jarak pemakaian bisa dikategorikan sebagai rendah\n",
        "atau tinggi? Sertakan argumen yang mendukung jawaban.\n",
        "6. Apakah terdapat outlier pada kolom Kilometers_Driven? Sertakan argumen yang\n",
        "mendukung jawaban.\n",
        "7. Apakah tahun pembuatan mobil berpengaruh terhadap total jarak pemakaian? Sertakan\n",
        "argumen yang mendukung jawaban.\n",
        "8. Berapa banyak mobil yang merupakan kepemilikan ketiga atau lebih?\n",
        "9. Tipe bahan bakar apa yang memiliki mileage (konsumsi bahan bakar) paling hemat?\n",
        "10. Apa saja faktor-faktor yang mempengaruhi harga mobil bekas di India? Sertakan\n",
        "argumen yang mendukung jawaban.\n",
        "\n",
        "Selain dari 10 soal di atas, kalian dianjurkan untuk membuat analisis-analisis tambahan\n",
        "mengenai dataset tersebut untuk mendapatkan insight yang lebih banyak."
      ]
    },
    {
      "cell_type": "code",
      "metadata": {
        "id": "05mIQACSm1l_",
        "colab_type": "code",
        "colab": {}
      },
      "source": [
        "import pandas as pd\n",
        "import numpy as np\n",
        "import seaborn as sns\n",
        "import matplotlib.pyplot as plt"
      ],
      "execution_count": 2,
      "outputs": []
    },
    {
      "cell_type": "code",
      "metadata": {
        "id": "ax3B0QianmoB",
        "colab_type": "code",
        "colab": {}
      },
      "source": [
        "cars = pd.read_csv('https://raw.githubusercontent.com/setyo-dwi-pratama/data-analyst/master/used_car_data.csv')"
      ],
      "execution_count": 13,
      "outputs": []
    },
    {
      "cell_type": "code",
      "metadata": {
        "id": "mOAx7urQnwC8",
        "colab_type": "code",
        "colab": {
          "base_uri": "https://localhost:8080/",
          "height": 419
        },
        "outputId": "0930099f-edcd-4b05-f503-a978579a85ff"
      },
      "source": [
        "cars"
      ],
      "execution_count": 14,
      "outputs": [
        {
          "output_type": "execute_result",
          "data": {
            "text/html": [
              "<div>\n",
              "<style scoped>\n",
              "    .dataframe tbody tr th:only-of-type {\n",
              "        vertical-align: middle;\n",
              "    }\n",
              "\n",
              "    .dataframe tbody tr th {\n",
              "        vertical-align: top;\n",
              "    }\n",
              "\n",
              "    .dataframe thead th {\n",
              "        text-align: right;\n",
              "    }\n",
              "</style>\n",
              "<table border=\"1\" class=\"dataframe\">\n",
              "  <thead>\n",
              "    <tr style=\"text-align: right;\">\n",
              "      <th></th>\n",
              "      <th>Name</th>\n",
              "      <th>Location</th>\n",
              "      <th>Year</th>\n",
              "      <th>Kilometers_Driven</th>\n",
              "      <th>Fuel_Type</th>\n",
              "      <th>Transmission</th>\n",
              "      <th>Owner_Type</th>\n",
              "      <th>Mileage</th>\n",
              "      <th>Engine</th>\n",
              "      <th>Power</th>\n",
              "      <th>Seats</th>\n",
              "      <th>Price</th>\n",
              "    </tr>\n",
              "  </thead>\n",
              "  <tbody>\n",
              "    <tr>\n",
              "      <th>0</th>\n",
              "      <td>Maruti Wagon R LXI CNG</td>\n",
              "      <td>Mumbai</td>\n",
              "      <td>2010</td>\n",
              "      <td>72000</td>\n",
              "      <td>CNG</td>\n",
              "      <td>Manual</td>\n",
              "      <td>First</td>\n",
              "      <td>26.6 km/kg</td>\n",
              "      <td>998 CC</td>\n",
              "      <td>58.16 bhp</td>\n",
              "      <td>5.0</td>\n",
              "      <td>1.75</td>\n",
              "    </tr>\n",
              "    <tr>\n",
              "      <th>1</th>\n",
              "      <td>Hyundai Creta 1.6 CRDi SX Option</td>\n",
              "      <td>Pune</td>\n",
              "      <td>2015</td>\n",
              "      <td>41000</td>\n",
              "      <td>Diesel</td>\n",
              "      <td>Manual</td>\n",
              "      <td>First</td>\n",
              "      <td>19.67 kmpl</td>\n",
              "      <td>1582 CC</td>\n",
              "      <td>126.2 bhp</td>\n",
              "      <td>5.0</td>\n",
              "      <td>12.50</td>\n",
              "    </tr>\n",
              "    <tr>\n",
              "      <th>2</th>\n",
              "      <td>Honda Jazz V</td>\n",
              "      <td>Chennai</td>\n",
              "      <td>2011</td>\n",
              "      <td>46000</td>\n",
              "      <td>Petrol</td>\n",
              "      <td>Manual</td>\n",
              "      <td>First</td>\n",
              "      <td>18.2 kmpl</td>\n",
              "      <td>1199 CC</td>\n",
              "      <td>88.7 bhp</td>\n",
              "      <td>5.0</td>\n",
              "      <td>4.50</td>\n",
              "    </tr>\n",
              "    <tr>\n",
              "      <th>3</th>\n",
              "      <td>Maruti Ertiga VDI</td>\n",
              "      <td>Chennai</td>\n",
              "      <td>2012</td>\n",
              "      <td>87000</td>\n",
              "      <td>Diesel</td>\n",
              "      <td>Manual</td>\n",
              "      <td>First</td>\n",
              "      <td>20.77 kmpl</td>\n",
              "      <td>1248 CC</td>\n",
              "      <td>88.76 bhp</td>\n",
              "      <td>7.0</td>\n",
              "      <td>6.00</td>\n",
              "    </tr>\n",
              "    <tr>\n",
              "      <th>4</th>\n",
              "      <td>Audi A4 New 2.0 TDI Multitronic</td>\n",
              "      <td>Coimbatore</td>\n",
              "      <td>2013</td>\n",
              "      <td>40670</td>\n",
              "      <td>Diesel</td>\n",
              "      <td>Automatic</td>\n",
              "      <td>Second</td>\n",
              "      <td>15.2 kmpl</td>\n",
              "      <td>1968 CC</td>\n",
              "      <td>140.8 bhp</td>\n",
              "      <td>5.0</td>\n",
              "      <td>17.74</td>\n",
              "    </tr>\n",
              "    <tr>\n",
              "      <th>...</th>\n",
              "      <td>...</td>\n",
              "      <td>...</td>\n",
              "      <td>...</td>\n",
              "      <td>...</td>\n",
              "      <td>...</td>\n",
              "      <td>...</td>\n",
              "      <td>...</td>\n",
              "      <td>...</td>\n",
              "      <td>...</td>\n",
              "      <td>...</td>\n",
              "      <td>...</td>\n",
              "      <td>...</td>\n",
              "    </tr>\n",
              "    <tr>\n",
              "      <th>6014</th>\n",
              "      <td>Maruti Swift VDI</td>\n",
              "      <td>Delhi</td>\n",
              "      <td>2014</td>\n",
              "      <td>27365</td>\n",
              "      <td>Diesel</td>\n",
              "      <td>Manual</td>\n",
              "      <td>First</td>\n",
              "      <td>28.4 kmpl</td>\n",
              "      <td>1248 CC</td>\n",
              "      <td>74 bhp</td>\n",
              "      <td>5.0</td>\n",
              "      <td>4.75</td>\n",
              "    </tr>\n",
              "    <tr>\n",
              "      <th>6015</th>\n",
              "      <td>Hyundai Xcent 1.1 CRDi S</td>\n",
              "      <td>Jaipur</td>\n",
              "      <td>2015</td>\n",
              "      <td>100000</td>\n",
              "      <td>Diesel</td>\n",
              "      <td>Manual</td>\n",
              "      <td>First</td>\n",
              "      <td>24.4 kmpl</td>\n",
              "      <td>1120 CC</td>\n",
              "      <td>71 bhp</td>\n",
              "      <td>5.0</td>\n",
              "      <td>4.00</td>\n",
              "    </tr>\n",
              "    <tr>\n",
              "      <th>6016</th>\n",
              "      <td>Mahindra Xylo D4 BSIV</td>\n",
              "      <td>Jaipur</td>\n",
              "      <td>2012</td>\n",
              "      <td>55000</td>\n",
              "      <td>Diesel</td>\n",
              "      <td>Manual</td>\n",
              "      <td>Second</td>\n",
              "      <td>14.0 kmpl</td>\n",
              "      <td>2498 CC</td>\n",
              "      <td>112 bhp</td>\n",
              "      <td>8.0</td>\n",
              "      <td>2.90</td>\n",
              "    </tr>\n",
              "    <tr>\n",
              "      <th>6017</th>\n",
              "      <td>Maruti Wagon R VXI</td>\n",
              "      <td>Kolkata</td>\n",
              "      <td>2013</td>\n",
              "      <td>46000</td>\n",
              "      <td>Petrol</td>\n",
              "      <td>Manual</td>\n",
              "      <td>First</td>\n",
              "      <td>18.9 kmpl</td>\n",
              "      <td>998 CC</td>\n",
              "      <td>67.1 bhp</td>\n",
              "      <td>5.0</td>\n",
              "      <td>2.65</td>\n",
              "    </tr>\n",
              "    <tr>\n",
              "      <th>6018</th>\n",
              "      <td>Chevrolet Beat Diesel</td>\n",
              "      <td>Hyderabad</td>\n",
              "      <td>2011</td>\n",
              "      <td>47000</td>\n",
              "      <td>Diesel</td>\n",
              "      <td>Manual</td>\n",
              "      <td>First</td>\n",
              "      <td>25.44 kmpl</td>\n",
              "      <td>936 CC</td>\n",
              "      <td>57.6 bhp</td>\n",
              "      <td>5.0</td>\n",
              "      <td>2.50</td>\n",
              "    </tr>\n",
              "  </tbody>\n",
              "</table>\n",
              "<p>6019 rows × 12 columns</p>\n",
              "</div>"
            ],
            "text/plain": [
              "                                  Name    Location  ...  Seats  Price\n",
              "0               Maruti Wagon R LXI CNG      Mumbai  ...    5.0   1.75\n",
              "1     Hyundai Creta 1.6 CRDi SX Option        Pune  ...    5.0  12.50\n",
              "2                         Honda Jazz V     Chennai  ...    5.0   4.50\n",
              "3                    Maruti Ertiga VDI     Chennai  ...    7.0   6.00\n",
              "4      Audi A4 New 2.0 TDI Multitronic  Coimbatore  ...    5.0  17.74\n",
              "...                                ...         ...  ...    ...    ...\n",
              "6014                  Maruti Swift VDI       Delhi  ...    5.0   4.75\n",
              "6015          Hyundai Xcent 1.1 CRDi S      Jaipur  ...    5.0   4.00\n",
              "6016             Mahindra Xylo D4 BSIV      Jaipur  ...    8.0   2.90\n",
              "6017                Maruti Wagon R VXI     Kolkata  ...    5.0   2.65\n",
              "6018             Chevrolet Beat Diesel   Hyderabad  ...    5.0   2.50\n",
              "\n",
              "[6019 rows x 12 columns]"
            ]
          },
          "metadata": {
            "tags": []
          },
          "execution_count": 14
        }
      ]
    },
    {
      "cell_type": "code",
      "metadata": {
        "id": "rBzvFJL5nxBt",
        "colab_type": "code",
        "colab": {
          "base_uri": "https://localhost:8080/",
          "height": 340
        },
        "outputId": "943aa799-0912-460c-8905-ac247487eedc"
      },
      "source": [
        "cars.info()"
      ],
      "execution_count": 15,
      "outputs": [
        {
          "output_type": "stream",
          "text": [
            "<class 'pandas.core.frame.DataFrame'>\n",
            "RangeIndex: 6019 entries, 0 to 6018\n",
            "Data columns (total 12 columns):\n",
            " #   Column             Non-Null Count  Dtype  \n",
            "---  ------             --------------  -----  \n",
            " 0   Name               6019 non-null   object \n",
            " 1   Location           6019 non-null   object \n",
            " 2   Year               6019 non-null   int64  \n",
            " 3   Kilometers_Driven  6019 non-null   int64  \n",
            " 4   Fuel_Type          6019 non-null   object \n",
            " 5   Transmission       6019 non-null   object \n",
            " 6   Owner_Type         6019 non-null   object \n",
            " 7   Mileage            6017 non-null   object \n",
            " 8   Engine             5983 non-null   object \n",
            " 9   Power              5983 non-null   object \n",
            " 10  Seats              5977 non-null   float64\n",
            " 11  Price              6019 non-null   float64\n",
            "dtypes: float64(2), int64(2), object(8)\n",
            "memory usage: 564.4+ KB\n"
          ],
          "name": "stdout"
        }
      ]
    },
    {
      "cell_type": "code",
      "metadata": {
        "id": "w_q7XDe_oRcj",
        "colab_type": "code",
        "colab": {
          "base_uri": "https://localhost:8080/",
          "height": 238
        },
        "outputId": "e44c16bd-5b66-4760-9bda-4e05c9251e17"
      },
      "source": [
        "cars.isnull().sum()"
      ],
      "execution_count": 45,
      "outputs": [
        {
          "output_type": "execute_result",
          "data": {
            "text/plain": [
              "Name                  0\n",
              "Location              0\n",
              "Year                  0\n",
              "Kilometers_Driven     0\n",
              "Fuel_Type             0\n",
              "Transmission          0\n",
              "Owner_Type            0\n",
              "Mileage               2\n",
              "Engine               36\n",
              "Power                36\n",
              "Seats                42\n",
              "Price                 0\n",
              "dtype: int64"
            ]
          },
          "metadata": {
            "tags": []
          },
          "execution_count": 45
        }
      ]
    },
    {
      "cell_type": "code",
      "metadata": {
        "id": "CGw9iZEnyH3s",
        "colab_type": "code",
        "colab": {
          "base_uri": "https://localhost:8080/",
          "height": 368
        },
        "outputId": "37470571-6be6-4b4a-80f7-0dc0dcf4a6bc"
      },
      "source": [
        "sns.heatmap(cars.isnull(), cmap=\"plasma\")"
      ],
      "execution_count": 49,
      "outputs": [
        {
          "output_type": "execute_result",
          "data": {
            "text/plain": [
              "<matplotlib.axes._subplots.AxesSubplot at 0x7f7e9316fdd8>"
            ]
          },
          "metadata": {
            "tags": []
          },
          "execution_count": 49
        },
        {
          "output_type": "display_data",
          "data": {
            "image/png": "[encoded data removed]",
            "text/plain": [
              "<Figure size 432x288 with 2 Axes>"
            ]
          },
          "metadata": {
            "tags": [],
            "needs_background": "light"
          }
        }
      ]
    },
    {
      "cell_type": "code",
      "metadata": {
        "id": "c9LVoNg2o4fR",
        "colab_type": "code",
        "colab": {
          "base_uri": "https://localhost:8080/",
          "height": 221
        },
        "outputId": "6ba28df4-9894-4c42-a555-5c6ff7e01222"
      },
      "source": [
        "cars['Name'].value_counts()"
      ],
      "execution_count": 29,
      "outputs": [
        {
          "output_type": "execute_result",
          "data": {
            "text/plain": [
              "Mahindra XUV500 W8 2WD                  49\n",
              "Maruti Swift VDI                        45\n",
              "Honda City 1.5 S MT                     34\n",
              "Maruti Swift Dzire VDI                  34\n",
              "Maruti Swift VDI BSIV                   31\n",
              "                                        ..\n",
              "Skoda Rapid 1.6 MPI AT Elegance Plus     1\n",
              "Toyota Camry Hybrid 2.5                  1\n",
              "Maruti Alto VXi                          1\n",
              "Tata Indigo LS Dicor                     1\n",
              "Mercedes-Benz CLA 200 CDI Style          1\n",
              "Name: Name, Length: 1876, dtype: int64"
            ]
          },
          "metadata": {
            "tags": []
          },
          "execution_count": 29
        }
      ]
    },
    {
      "cell_type": "code",
      "metadata": {
        "id": "Obmto8qvt1fu",
        "colab_type": "code",
        "colab": {
          "base_uri": "https://localhost:8080/",
          "height": 221
        },
        "outputId": "8510d434-2c5a-4371-d803-fd65549592dc"
      },
      "source": [
        "cars['Location'].value_counts()"
      ],
      "execution_count": 31,
      "outputs": [
        {
          "output_type": "execute_result",
          "data": {
            "text/plain": [
              "Mumbai        790\n",
              "Hyderabad     742\n",
              "Kochi         651\n",
              "Coimbatore    636\n",
              "Pune          622\n",
              "Delhi         554\n",
              "Kolkata       535\n",
              "Chennai       494\n",
              "Jaipur        413\n",
              "Bangalore     358\n",
              "Ahmedabad     224\n",
              "Name: Location, dtype: int64"
            ]
          },
          "metadata": {
            "tags": []
          },
          "execution_count": 31
        }
      ]
    }
  ]
}