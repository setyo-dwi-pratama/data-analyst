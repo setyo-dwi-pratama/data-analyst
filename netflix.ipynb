{
  "nbformat": 4,
  "nbformat_minor": 0,
  "metadata": {
    "colab": {
      "name": "netflix.ipynb",
      "provenance": [],
      "authorship_tag": "ABX9TyNzGq9VxCeLTAxKcjQVYnAI",
      "include_colab_link": true
    },
    "kernelspec": {
      "name": "python3",
      "display_name": "Python 3"
    },
    "accelerator": "GPU"
  },
  "cells": [
    {
      "cell_type": "markdown",
      "metadata": {
        "id": "view-in-github",
        "colab_type": "text"
      },
      "source": [
        "<a href=\"https://colab.research.google.com/github/setyo-dwi-pratama/data-analyst/blob/master/netflix.ipynb\" target=\"_parent\"><img src=\"https://colab.research.google.com/assets/colab-badge.svg\" alt=\"Open In Colab\"/></a>"
      ]
    },
    {
      "cell_type": "code",
      "metadata": {
        "id": "xhIagEyWjeJC",
        "colab_type": "code",
        "colab": {}
      },
      "source": [
        "import numpy as np\n",
        "import pandas as pd\n",
        "import seaborn as sns\n",
        "import matplotlib.pyplot as plt"
      ],
      "execution_count": 67,
      "outputs": []
    },
    {
      "cell_type": "code",
      "metadata": {
        "id": "ZG1UH9vpk2h7",
        "colab_type": "code",
        "colab": {}
      },
      "source": [
        "df = pd.read_csv('https://raw.githubusercontent.com/setyo-dwi-pratama/data-analyst/master/netflix_titles.csv')"
      ],
      "execution_count": 68,
      "outputs": []
    },
    {
      "cell_type": "code",
      "metadata": {
        "id": "M1Uhb0yLlKLa",
        "colab_type": "code",
        "colab": {
          "base_uri": "https://localhost:8080/",
          "height": 493
        },
        "outputId": "77c5ec2a-9801-48b0-de58-27cd2c997185"
      },
      "source": [
        "df.head()"
      ],
      "execution_count": 69,
      "outputs": [
        {
          "output_type": "execute_result",
          "data": {
            "text/html": [
              "<div>\n",
              "<style scoped>\n",
              "    .dataframe tbody tr th:only-of-type {\n",
              "        vertical-align: middle;\n",
              "    }\n",
              "\n",
              "    .dataframe tbody tr th {\n",
              "        vertical-align: top;\n",
              "    }\n",
              "\n",
              "    .dataframe thead th {\n",
              "        text-align: right;\n",
              "    }\n",
              "</style>\n",
              "<table border=\"1\" class=\"dataframe\">\n",
              "  <thead>\n",
              "    <tr style=\"text-align: right;\">\n",
              "      <th></th>\n",
              "      <th>show_id</th>\n",
              "      <th>type</th>\n",
              "      <th>title</th>\n",
              "      <th>director</th>\n",
              "      <th>cast</th>\n",
              "      <th>country</th>\n",
              "      <th>date_added</th>\n",
              "      <th>release_year</th>\n",
              "      <th>rating</th>\n",
              "      <th>duration</th>\n",
              "      <th>listed_in</th>\n",
              "      <th>description</th>\n",
              "    </tr>\n",
              "  </thead>\n",
              "  <tbody>\n",
              "    <tr>\n",
              "      <th>0</th>\n",
              "      <td>81145628</td>\n",
              "      <td>Movie</td>\n",
              "      <td>Norm of the North: King Sized Adventure</td>\n",
              "      <td>Richard Finn, Tim Maltby</td>\n",
              "      <td>Alan Marriott, Andrew Toth, Brian Dobson, Cole...</td>\n",
              "      <td>United States, India, South Korea, China</td>\n",
              "      <td>September 9, 2019</td>\n",
              "      <td>2019</td>\n",
              "      <td>TV-PG</td>\n",
              "      <td>90 min</td>\n",
              "      <td>Children &amp; Family Movies, Comedies</td>\n",
              "      <td>Before planning an awesome wedding for his gra...</td>\n",
              "    </tr>\n",
              "    <tr>\n",
              "      <th>1</th>\n",
              "      <td>80117401</td>\n",
              "      <td>Movie</td>\n",
              "      <td>Jandino: Whatever it Takes</td>\n",
              "      <td>NaN</td>\n",
              "      <td>Jandino Asporaat</td>\n",
              "      <td>United Kingdom</td>\n",
              "      <td>September 9, 2016</td>\n",
              "      <td>2016</td>\n",
              "      <td>TV-MA</td>\n",
              "      <td>94 min</td>\n",
              "      <td>Stand-Up Comedy</td>\n",
              "      <td>Jandino Asporaat riffs on the challenges of ra...</td>\n",
              "    </tr>\n",
              "    <tr>\n",
              "      <th>2</th>\n",
              "      <td>70234439</td>\n",
              "      <td>TV Show</td>\n",
              "      <td>Transformers Prime</td>\n",
              "      <td>NaN</td>\n",
              "      <td>Peter Cullen, Sumalee Montano, Frank Welker, J...</td>\n",
              "      <td>United States</td>\n",
              "      <td>September 8, 2018</td>\n",
              "      <td>2013</td>\n",
              "      <td>TV-Y7-FV</td>\n",
              "      <td>1 Season</td>\n",
              "      <td>Kids' TV</td>\n",
              "      <td>With the help of three human allies, the Autob...</td>\n",
              "    </tr>\n",
              "    <tr>\n",
              "      <th>3</th>\n",
              "      <td>80058654</td>\n",
              "      <td>TV Show</td>\n",
              "      <td>Transformers: Robots in Disguise</td>\n",
              "      <td>NaN</td>\n",
              "      <td>Will Friedle, Darren Criss, Constance Zimmer, ...</td>\n",
              "      <td>United States</td>\n",
              "      <td>September 8, 2018</td>\n",
              "      <td>2016</td>\n",
              "      <td>TV-Y7</td>\n",
              "      <td>1 Season</td>\n",
              "      <td>Kids' TV</td>\n",
              "      <td>When a prison ship crash unleashes hundreds of...</td>\n",
              "    </tr>\n",
              "    <tr>\n",
              "      <th>4</th>\n",
              "      <td>80125979</td>\n",
              "      <td>Movie</td>\n",
              "      <td>#realityhigh</td>\n",
              "      <td>Fernando Lebrija</td>\n",
              "      <td>Nesta Cooper, Kate Walsh, John Michael Higgins...</td>\n",
              "      <td>United States</td>\n",
              "      <td>September 8, 2017</td>\n",
              "      <td>2017</td>\n",
              "      <td>TV-14</td>\n",
              "      <td>99 min</td>\n",
              "      <td>Comedies</td>\n",
              "      <td>When nerdy high schooler Dani finally attracts...</td>\n",
              "    </tr>\n",
              "  </tbody>\n",
              "</table>\n",
              "</div>"
            ],
            "text/plain": [
              "    show_id  ...                                        description\n",
              "0  81145628  ...  Before planning an awesome wedding for his gra...\n",
              "1  80117401  ...  Jandino Asporaat riffs on the challenges of ra...\n",
              "2  70234439  ...  With the help of three human allies, the Autob...\n",
              "3  80058654  ...  When a prison ship crash unleashes hundreds of...\n",
              "4  80125979  ...  When nerdy high schooler Dani finally attracts...\n",
              "\n",
              "[5 rows x 12 columns]"
            ]
          },
          "metadata": {
            "tags": []
          },
          "execution_count": 69
        }
      ]
    },
    {
      "cell_type": "code",
      "metadata": {
        "id": "fnXUTEgYlMaz",
        "colab_type": "code",
        "colab": {
          "base_uri": "https://localhost:8080/",
          "height": 340
        },
        "outputId": "3e74bbe5-2c6a-44ee-ff91-00f24d000f25"
      },
      "source": [
        "df.info()"
      ],
      "execution_count": 70,
      "outputs": [
        {
          "output_type": "stream",
          "text": [
            "<class 'pandas.core.frame.DataFrame'>\n",
            "RangeIndex: 6234 entries, 0 to 6233\n",
            "Data columns (total 12 columns):\n",
            " #   Column        Non-Null Count  Dtype \n",
            "---  ------        --------------  ----- \n",
            " 0   show_id       6234 non-null   int64 \n",
            " 1   type          6234 non-null   object\n",
            " 2   title         6234 non-null   object\n",
            " 3   director      4265 non-null   object\n",
            " 4   cast          5664 non-null   object\n",
            " 5   country       5758 non-null   object\n",
            " 6   date_added    6223 non-null   object\n",
            " 7   release_year  6234 non-null   int64 \n",
            " 8   rating        6224 non-null   object\n",
            " 9   duration      6234 non-null   object\n",
            " 10  listed_in     6234 non-null   object\n",
            " 11  description   6234 non-null   object\n",
            "dtypes: int64(2), object(10)\n",
            "memory usage: 584.6+ KB\n"
          ],
          "name": "stdout"
        }
      ]
    },
    {
      "cell_type": "code",
      "metadata": {
        "id": "RmR4spETlc9C",
        "colab_type": "code",
        "colab": {
          "base_uri": "https://localhost:8080/",
          "height": 238
        },
        "outputId": "40c8a954-cedc-43d9-f02e-6819e74192b6"
      },
      "source": [
        "df.isnull().sum()"
      ],
      "execution_count": 71,
      "outputs": [
        {
          "output_type": "execute_result",
          "data": {
            "text/plain": [
              "show_id            0\n",
              "type               0\n",
              "title              0\n",
              "director        1969\n",
              "cast             570\n",
              "country          476\n",
              "date_added        11\n",
              "release_year       0\n",
              "rating            10\n",
              "duration           0\n",
              "listed_in          0\n",
              "description        0\n",
              "dtype: int64"
            ]
          },
          "metadata": {
            "tags": []
          },
          "execution_count": 71
        }
      ]
    },
    {
      "cell_type": "code",
      "metadata": {
        "id": "LLqkKqjWn2uJ",
        "colab_type": "code",
        "colab": {
          "base_uri": "https://localhost:8080/",
          "height": 340
        },
        "outputId": "80ac6624-32d1-423b-988d-e19ae0b0a44e"
      },
      "source": [
        "sns.heatmap(df.isnull(), cmap=\"plasma\")"
      ],
      "execution_count": 72,
      "outputs": [
        {
          "output_type": "execute_result",
          "data": {
            "text/plain": [
              "<matplotlib.axes._subplots.AxesSubplot at 0x7fcb2ccc3be0>"
            ]
          },
          "metadata": {
            "tags": []
          },
          "execution_count": 72
        },
        {
          "output_type": "display_data",
          "data": {
            "image/png": "[encoded data removed]",
            "text/plain": [
              "<Figure size 432x288 with 2 Axes>"
            ]
          },
          "metadata": {
            "tags": [],
            "needs_background": "light"
          }
        }
      ]
    },
    {
      "cell_type": "code",
      "metadata": {
        "id": "okC0whfF5bC4",
        "colab_type": "code",
        "colab": {}
      },
      "source": [
        "df.drop(['director','cast','date_added'], axis=1, inplace=True)"
      ],
      "execution_count": 73,
      "outputs": []
    },
    {
      "cell_type": "code",
      "metadata": {
        "id": "9002gWxI57Td",
        "colab_type": "code",
        "colab": {}
      },
      "source": [
        "df['country'].replace(np.nan, 'United States', inplace=True)"
      ],
      "execution_count": 74,
      "outputs": []
    },
    {
      "cell_type": "code",
      "metadata": {
        "id": "DAOVtSsH8xwH",
        "colab_type": "code",
        "colab": {}
      },
      "source": [
        "df['rating'].replace(np.nan, 'TV-MA', inplace=True)"
      ],
      "execution_count": 78,
      "outputs": []
    },
    {
      "cell_type": "code",
      "metadata": {
        "id": "QVnUu7eG7NDA",
        "colab_type": "code",
        "colab": {
          "base_uri": "https://localhost:8080/",
          "height": 340
        },
        "outputId": "14b550d2-4711-4b32-d5ff-299a5a262a72"
      },
      "source": [
        "sns.heatmap(df.isnull(), cmap=\"plasma\")"
      ],
      "execution_count": 79,
      "outputs": [
        {
          "output_type": "execute_result",
          "data": {
            "text/plain": [
              "<matplotlib.axes._subplots.AxesSubplot at 0x7fcb2cae6eb8>"
            ]
          },
          "metadata": {
            "tags": []
          },
          "execution_count": 79
        },
        {
          "output_type": "display_data",
          "data": {
            "image/png": "[encoded data removed]",
            "text/plain": [
              "<Figure size 432x288 with 2 Axes>"
            ]
          },
          "metadata": {
            "tags": [],
            "needs_background": "light"
          }
        }
      ]
    },
    {
      "cell_type": "code",
      "metadata": {
        "id": "anC_cqx3-Hrh",
        "colab_type": "code",
        "colab": {
          "base_uri": "https://localhost:8080/",
          "height": 68
        },
        "outputId": "911ded2c-126e-4aea-fcc8-dcc40739442c"
      },
      "source": [
        "df['type'].value_counts()"
      ],
      "execution_count": 83,
      "outputs": [
        {
          "output_type": "execute_result",
          "data": {
            "text/plain": [
              "Movie      4265\n",
              "TV Show    1969\n",
              "Name: type, dtype: int64"
            ]
          },
          "metadata": {
            "tags": []
          },
          "execution_count": 83
        }
      ]
    },
    {
      "cell_type": "code",
      "metadata": {
        "id": "c0EBv2c4-dLr",
        "colab_type": "code",
        "colab": {
          "base_uri": "https://localhost:8080/",
          "height": 296
        },
        "outputId": "96af7b57-0571-4308-c911-a7f8cbaf9229"
      },
      "source": [
        "sns.countplot(x='type', data=df)"
      ],
      "execution_count": 84,
      "outputs": [
        {
          "output_type": "execute_result",
          "data": {
            "text/plain": [
              "<matplotlib.axes._subplots.AxesSubplot at 0x7fcb2c97e8d0>"
            ]
          },
          "metadata": {
            "tags": []
          },
          "execution_count": 84
        },
        {
          "output_type": "display_data",
          "data": {
            "image/png": "[encoded data removed]",
            "text/plain": [
              "<Figure size 432x288 with 1 Axes>"
            ]
          },
          "metadata": {
            "tags": [],
            "needs_background": "light"
          }
        }
      ]
    },
    {
      "cell_type": "code",
      "metadata": {
        "id": "cmrncC4hsI7_",
        "colab_type": "code",
        "colab": {
          "base_uri": "https://localhost:8080/",
          "height": 51
        },
        "outputId": "3711bf8f-1576-41cd-de67-be37529307fe"
      },
      "source": [
        "df.rating.value_counts().unique()"
      ],
      "execution_count": 35,
      "outputs": [
        {
          "output_type": "execute_result",
          "data": {
            "text/plain": [
              "array([2027, 1698,  701,  508,  286,  218,  184,  169,  149,  143,   95,\n",
              "         37,    7,    2])"
            ]
          },
          "metadata": {
            "tags": []
          },
          "execution_count": 35
        }
      ]
    },
    {
      "cell_type": "code",
      "metadata": {
        "id": "sDu7GuvWsQne",
        "colab_type": "code",
        "colab": {
          "base_uri": "https://localhost:8080/",
          "height": 272
        },
        "outputId": "0a42757e-875f-42f9-8e0e-e5b3b80dfe08"
      },
      "source": [
        "df.rating.value_counts()"
      ],
      "execution_count": 36,
      "outputs": [
        {
          "output_type": "execute_result",
          "data": {
            "text/plain": [
              "TV-MA       2027\n",
              "TV-14       1698\n",
              "TV-PG        701\n",
              "R            508\n",
              "PG-13        286\n",
              "NR           218\n",
              "PG           184\n",
              "TV-Y7        169\n",
              "TV-G         149\n",
              "TV-Y         143\n",
              "TV-Y7-FV      95\n",
              "G             37\n",
              "UR             7\n",
              "NC-17          2\n",
              "Name: rating, dtype: int64"
            ]
          },
          "metadata": {
            "tags": []
          },
          "execution_count": 36
        }
      ]
    },
    {
      "cell_type": "code",
      "metadata": {
        "id": "3XvbugO71x0f",
        "colab_type": "code",
        "colab": {
          "base_uri": "https://localhost:8080/",
          "height": 378
        },
        "outputId": "41899a8f-2f59-48b7-da85-774221c68d4c"
      },
      "source": [
        "plt.figure(figsize=(30,8))\n",
        "sns.countplot(x='rating', data=df, color=\"green\")"
      ],
      "execution_count": 60,
      "outputs": [
        {
          "output_type": "execute_result",
          "data": {
            "text/plain": [
              "<matplotlib.axes._subplots.AxesSubplot at 0x7fcb2dbcad68>"
            ]
          },
          "metadata": {
            "tags": []
          },
          "execution_count": 60
        },
        {
          "output_type": "display_data",
          "data": {
            "image/png": "[encoded data removed]",
            "text/plain": [
              "<Figure size 2160x576 with 1 Axes>"
            ]
          },
          "metadata": {
            "tags": [],
            "needs_background": "light"
          }
        }
      ]
    },
    {
      "cell_type": "code",
      "metadata": {
        "id": "rKVggPKWsX5L",
        "colab_type": "code",
        "colab": {
          "base_uri": "https://localhost:8080/",
          "height": 221
        },
        "outputId": "02666de1-e9c6-4f5f-883f-10faf9689994"
      },
      "source": [
        "df.release_year.value_counts()"
      ],
      "execution_count": 37,
      "outputs": [
        {
          "output_type": "execute_result",
          "data": {
            "text/plain": [
              "2018    1063\n",
              "2017     959\n",
              "2019     843\n",
              "2016     830\n",
              "2015     517\n",
              "        ... \n",
              "1959       1\n",
              "1963       1\n",
              "1964       1\n",
              "1956       1\n",
              "1925       1\n",
              "Name: release_year, Length: 72, dtype: int64"
            ]
          },
          "metadata": {
            "tags": []
          },
          "execution_count": 37
        }
      ]
    },
    {
      "cell_type": "code",
      "metadata": {
        "id": "hpUIw5MCstS5",
        "colab_type": "code",
        "colab": {
          "base_uri": "https://localhost:8080/",
          "height": 354
        },
        "outputId": "557ace74-7076-40d8-dd38-e0ceeebf2a3f"
      },
      "source": [
        "plt.figure(figsize=(40,10))\n",
        "sns.countplot(x='release_year', data=df, saturation=1, color=\"green\")"
      ],
      "execution_count": 52,
      "outputs": [
        {
          "output_type": "execute_result",
          "data": {
            "text/plain": [
              "<matplotlib.axes._subplots.AxesSubplot at 0x7fcb2d6b9198>"
            ]
          },
          "metadata": {
            "tags": []
          },
          "execution_count": 52
        },
        {
          "output_type": "display_data",
          "data": {
            "image/png": "[encoded data removed]",
            "text/plain": [
              "<Figure size 2880x720 with 1 Axes>"
            ]
          },
          "metadata": {
            "tags": [],
            "needs_background": "light"
          }
        }
      ]
    },
    {
      "cell_type": "code",
      "metadata": {
        "id": "CTk0STDH4rlQ",
        "colab_type": "code",
        "colab": {
          "base_uri": "https://localhost:8080/",
          "height": 351
        },
        "outputId": "7e72fbed-dc9a-4107-f9c7-c67f49abc565"
      },
      "source": [
        "plt.figure(figsize=(10,5))\n",
        "sns.countplot(x='rating', data=df, hue='type')"
      ],
      "execution_count": 89,
      "outputs": [
        {
          "output_type": "execute_result",
          "data": {
            "text/plain": [
              "<matplotlib.axes._subplots.AxesSubplot at 0x7fcb2c846c50>"
            ]
          },
          "metadata": {
            "tags": []
          },
          "execution_count": 89
        },
        {
          "output_type": "display_data",
          "data": {
            "image/png": "[encoded data removed]",
            "text/plain": [
              "<Figure size 720x360 with 1 Axes>"
            ]
          },
          "metadata": {
            "tags": [],
            "needs_background": "light"
          }
        }
      ]
    },
    {
      "cell_type": "code",
      "metadata": {
        "id": "NvJPpsW6_1O4",
        "colab_type": "code",
        "colab": {}
      },
      "source": [
        "tahun_tua = df.sort_values(\"release_year\", ascending=True, ignore_index=True)"
      ],
      "execution_count": 92,
      "outputs": []
    },
    {
      "cell_type": "code",
      "metadata": {
        "id": "i70GsYmrA8pG",
        "colab_type": "code",
        "colab": {
          "base_uri": "https://localhost:8080/",
          "height": 589
        },
        "outputId": "9090139c-59da-40e7-faca-950d5fde9e1a"
      },
      "source": [
        "tahun_tua"
      ],
      "execution_count": 93,
      "outputs": [
        {
          "output_type": "execute_result",
          "data": {
            "text/html": [
              "<div>\n",
              "<style scoped>\n",
              "    .dataframe tbody tr th:only-of-type {\n",
              "        vertical-align: middle;\n",
              "    }\n",
              "\n",
              "    .dataframe tbody tr th {\n",
              "        vertical-align: top;\n",
              "    }\n",
              "\n",
              "    .dataframe thead th {\n",
              "        text-align: right;\n",
              "    }\n",
              "</style>\n",
              "<table border=\"1\" class=\"dataframe\">\n",
              "  <thead>\n",
              "    <tr style=\"text-align: right;\">\n",
              "      <th></th>\n",
              "      <th>show_id</th>\n",
              "      <th>type</th>\n",
              "      <th>title</th>\n",
              "      <th>country</th>\n",
              "      <th>release_year</th>\n",
              "      <th>rating</th>\n",
              "      <th>duration</th>\n",
              "      <th>listed_in</th>\n",
              "      <th>description</th>\n",
              "    </tr>\n",
              "  </thead>\n",
              "  <tbody>\n",
              "    <tr>\n",
              "      <th>0</th>\n",
              "      <td>81030762</td>\n",
              "      <td>TV Show</td>\n",
              "      <td>Pioneers: First Women Filmmakers*</td>\n",
              "      <td>United States</td>\n",
              "      <td>1925</td>\n",
              "      <td>TV-PG</td>\n",
              "      <td>1 Season</td>\n",
              "      <td>TV Shows</td>\n",
              "      <td>This collection restores films from women who ...</td>\n",
              "    </tr>\n",
              "    <tr>\n",
              "      <th>1</th>\n",
              "      <td>60027945</td>\n",
              "      <td>Movie</td>\n",
              "      <td>Prelude to War</td>\n",
              "      <td>United States</td>\n",
              "      <td>1942</td>\n",
              "      <td>TV-PG</td>\n",
              "      <td>52 min</td>\n",
              "      <td>Classic Movies, Documentaries</td>\n",
              "      <td>Frank Capra's documentary chronicles the rise ...</td>\n",
              "    </tr>\n",
              "    <tr>\n",
              "      <th>2</th>\n",
              "      <td>60027942</td>\n",
              "      <td>Movie</td>\n",
              "      <td>The Battle of Midway</td>\n",
              "      <td>United States</td>\n",
              "      <td>1942</td>\n",
              "      <td>TV-G</td>\n",
              "      <td>18 min</td>\n",
              "      <td>Classic Movies, Documentaries</td>\n",
              "      <td>Director John Ford captures combat footage of ...</td>\n",
              "    </tr>\n",
              "    <tr>\n",
              "      <th>3</th>\n",
              "      <td>80119186</td>\n",
              "      <td>Movie</td>\n",
              "      <td>Undercover: How to Operate Behind Enemy Lines</td>\n",
              "      <td>United States</td>\n",
              "      <td>1943</td>\n",
              "      <td>TV-PG</td>\n",
              "      <td>61 min</td>\n",
              "      <td>Classic Movies, Documentaries</td>\n",
              "      <td>This World War II-era training film dramatizes...</td>\n",
              "    </tr>\n",
              "    <tr>\n",
              "      <th>4</th>\n",
              "      <td>70013050</td>\n",
              "      <td>Movie</td>\n",
              "      <td>Why We Fight: The Battle of Russia</td>\n",
              "      <td>United States</td>\n",
              "      <td>1943</td>\n",
              "      <td>TV-14</td>\n",
              "      <td>82 min</td>\n",
              "      <td>Documentaries</td>\n",
              "      <td>This installment of Frank Capra's acclaimed do...</td>\n",
              "    </tr>\n",
              "    <tr>\n",
              "      <th>...</th>\n",
              "      <td>...</td>\n",
              "      <td>...</td>\n",
              "      <td>...</td>\n",
              "      <td>...</td>\n",
              "      <td>...</td>\n",
              "      <td>...</td>\n",
              "      <td>...</td>\n",
              "      <td>...</td>\n",
              "      <td>...</td>\n",
              "    </tr>\n",
              "    <tr>\n",
              "      <th>6229</th>\n",
              "      <td>81039393</td>\n",
              "      <td>TV Show</td>\n",
              "      <td>Cheer</td>\n",
              "      <td>United States</td>\n",
              "      <td>2020</td>\n",
              "      <td>TV-MA</td>\n",
              "      <td>1 Season</td>\n",
              "      <td>Docuseries, Reality TV, Teen TV Shows</td>\n",
              "      <td>This gripping docuseries follows the ups and d...</td>\n",
              "    </tr>\n",
              "    <tr>\n",
              "      <th>6230</th>\n",
              "      <td>81214114</td>\n",
              "      <td>Movie</td>\n",
              "      <td>Bulletproof 2</td>\n",
              "      <td>United States</td>\n",
              "      <td>2020</td>\n",
              "      <td>TV-MA</td>\n",
              "      <td>97 min</td>\n",
              "      <td>Action &amp; Adventure, Comedies</td>\n",
              "      <td>A special agent abruptly reunites with a crimi...</td>\n",
              "    </tr>\n",
              "    <tr>\n",
              "      <th>6231</th>\n",
              "      <td>81034946</td>\n",
              "      <td>TV Show</td>\n",
              "      <td>Maradona in Mexico</td>\n",
              "      <td>Argentina, United States, Mexico</td>\n",
              "      <td>2020</td>\n",
              "      <td>TV-MA</td>\n",
              "      <td>1 Season</td>\n",
              "      <td>Docuseries, Spanish-Language TV Shows</td>\n",
              "      <td>In this docuseries, soccer great Diego Maradon...</td>\n",
              "    </tr>\n",
              "    <tr>\n",
              "      <th>6232</th>\n",
              "      <td>81062828</td>\n",
              "      <td>TV Show</td>\n",
              "      <td>Killer Inside: The Mind of Aaron Hernandez</td>\n",
              "      <td>United States</td>\n",
              "      <td>2020</td>\n",
              "      <td>TV-MA</td>\n",
              "      <td>1 Season</td>\n",
              "      <td>Crime TV Shows, Docuseries</td>\n",
              "      <td>Via interviews with friends, players and insid...</td>\n",
              "    </tr>\n",
              "    <tr>\n",
              "      <th>6233</th>\n",
              "      <td>80237329</td>\n",
              "      <td>TV Show</td>\n",
              "      <td>AJ and the Queen</td>\n",
              "      <td>United States</td>\n",
              "      <td>2020</td>\n",
              "      <td>TV-14</td>\n",
              "      <td>1 Season</td>\n",
              "      <td>TV Comedies, TV Dramas</td>\n",
              "      <td>While traveling across the country in a run-do...</td>\n",
              "    </tr>\n",
              "  </tbody>\n",
              "</table>\n",
              "<p>6234 rows × 9 columns</p>\n",
              "</div>"
            ],
            "text/plain": [
              "       show_id  ...                                        description\n",
              "0     81030762  ...  This collection restores films from women who ...\n",
              "1     60027945  ...  Frank Capra's documentary chronicles the rise ...\n",
              "2     60027942  ...  Director John Ford captures combat footage of ...\n",
              "3     80119186  ...  This World War II-era training film dramatizes...\n",
              "4     70013050  ...  This installment of Frank Capra's acclaimed do...\n",
              "...        ...  ...                                                ...\n",
              "6229  81039393  ...  This gripping docuseries follows the ups and d...\n",
              "6230  81214114  ...  A special agent abruptly reunites with a crimi...\n",
              "6231  81034946  ...  In this docuseries, soccer great Diego Maradon...\n",
              "6232  81062828  ...  Via interviews with friends, players and insid...\n",
              "6233  80237329  ...  While traveling across the country in a run-do...\n",
              "\n",
              "[6234 rows x 9 columns]"
            ]
          },
          "metadata": {
            "tags": []
          },
          "execution_count": 93
        }
      ]
    },
    {
      "cell_type": "code",
      "metadata": {
        "id": "OkwN3HKbA9ky",
        "colab_type": "code",
        "colab": {
          "base_uri": "https://localhost:8080/",
          "height": 514
        },
        "outputId": "f8486784-7543-488a-96e5-d09afa6a1b50"
      },
      "source": [
        "tahun_tua[['title','release_year']][:15]"
      ],
      "execution_count": 94,
      "outputs": [
        {
          "output_type": "execute_result",
          "data": {
            "text/html": [
              "<div>\n",
              "<style scoped>\n",
              "    .dataframe tbody tr th:only-of-type {\n",
              "        vertical-align: middle;\n",
              "    }\n",
              "\n",
              "    .dataframe tbody tr th {\n",
              "        vertical-align: top;\n",
              "    }\n",
              "\n",
              "    .dataframe thead th {\n",
              "        text-align: right;\n",
              "    }\n",
              "</style>\n",
              "<table border=\"1\" class=\"dataframe\">\n",
              "  <thead>\n",
              "    <tr style=\"text-align: right;\">\n",
              "      <th></th>\n",
              "      <th>title</th>\n",
              "      <th>release_year</th>\n",
              "    </tr>\n",
              "  </thead>\n",
              "  <tbody>\n",
              "    <tr>\n",
              "      <th>0</th>\n",
              "      <td>Pioneers: First Women Filmmakers*</td>\n",
              "      <td>1925</td>\n",
              "    </tr>\n",
              "    <tr>\n",
              "      <th>1</th>\n",
              "      <td>Prelude to War</td>\n",
              "      <td>1942</td>\n",
              "    </tr>\n",
              "    <tr>\n",
              "      <th>2</th>\n",
              "      <td>The Battle of Midway</td>\n",
              "      <td>1942</td>\n",
              "    </tr>\n",
              "    <tr>\n",
              "      <th>3</th>\n",
              "      <td>Undercover: How to Operate Behind Enemy Lines</td>\n",
              "      <td>1943</td>\n",
              "    </tr>\n",
              "    <tr>\n",
              "      <th>4</th>\n",
              "      <td>Why We Fight: The Battle of Russia</td>\n",
              "      <td>1943</td>\n",
              "    </tr>\n",
              "    <tr>\n",
              "      <th>5</th>\n",
              "      <td>WWII: Report from the Aleutians</td>\n",
              "      <td>1943</td>\n",
              "    </tr>\n",
              "    <tr>\n",
              "      <th>6</th>\n",
              "      <td>The Memphis Belle: A Story of a\\nFlying Fortress</td>\n",
              "      <td>1944</td>\n",
              "    </tr>\n",
              "    <tr>\n",
              "      <th>7</th>\n",
              "      <td>The Negro Soldier</td>\n",
              "      <td>1944</td>\n",
              "    </tr>\n",
              "    <tr>\n",
              "      <th>8</th>\n",
              "      <td>Tunisian Victory</td>\n",
              "      <td>1944</td>\n",
              "    </tr>\n",
              "    <tr>\n",
              "      <th>9</th>\n",
              "      <td>San Pietro</td>\n",
              "      <td>1945</td>\n",
              "    </tr>\n",
              "    <tr>\n",
              "      <th>10</th>\n",
              "      <td>Nazi Concentration Camps</td>\n",
              "      <td>1945</td>\n",
              "    </tr>\n",
              "    <tr>\n",
              "      <th>11</th>\n",
              "      <td>Know Your Enemy - Japan</td>\n",
              "      <td>1945</td>\n",
              "    </tr>\n",
              "    <tr>\n",
              "      <th>12</th>\n",
              "      <td>The Stranger</td>\n",
              "      <td>1946</td>\n",
              "    </tr>\n",
              "    <tr>\n",
              "      <th>13</th>\n",
              "      <td>Pioneers of African-American Cinema</td>\n",
              "      <td>1946</td>\n",
              "    </tr>\n",
              "    <tr>\n",
              "      <th>14</th>\n",
              "      <td>Let There Be Light</td>\n",
              "      <td>1946</td>\n",
              "    </tr>\n",
              "  </tbody>\n",
              "</table>\n",
              "</div>"
            ],
            "text/plain": [
              "                                               title  release_year\n",
              "0                  Pioneers: First Women Filmmakers*          1925\n",
              "1                                     Prelude to War          1942\n",
              "2                               The Battle of Midway          1942\n",
              "3      Undercover: How to Operate Behind Enemy Lines          1943\n",
              "4                 Why We Fight: The Battle of Russia          1943\n",
              "5                    WWII: Report from the Aleutians          1943\n",
              "6   The Memphis Belle: A Story of a\\nFlying Fortress          1944\n",
              "7                                  The Negro Soldier          1944\n",
              "8                                   Tunisian Victory          1944\n",
              "9                                         San Pietro          1945\n",
              "10                          Nazi Concentration Camps          1945\n",
              "11                           Know Your Enemy - Japan          1945\n",
              "12                                      The Stranger          1946\n",
              "13               Pioneers of African-American Cinema          1946\n",
              "14                                Let There Be Light          1946"
            ]
          },
          "metadata": {
            "tags": []
          },
          "execution_count": 94
        }
      ]
    },
    {
      "cell_type": "code",
      "metadata": {
        "id": "iGN6jif_B3J1",
        "colab_type": "code",
        "colab": {}
      },
      "source": [
        "tahun_baru = df.sort_values(\"release_year\", ascending=False, ignore_index=True)"
      ],
      "execution_count": 102,
      "outputs": []
    },
    {
      "cell_type": "code",
      "metadata": {
        "id": "g8z_SVlrCPfZ",
        "colab_type": "code",
        "colab": {
          "base_uri": "https://localhost:8080/",
          "height": 514
        },
        "outputId": "c99bc603-73d2-4102-8c77-a75db7d24c67"
      },
      "source": [
        "tahun_baru[['title','release_year']][:15]"
      ],
      "execution_count": 104,
      "outputs": [
        {
          "output_type": "execute_result",
          "data": {
            "text/html": [
              "<div>\n",
              "<style scoped>\n",
              "    .dataframe tbody tr th:only-of-type {\n",
              "        vertical-align: middle;\n",
              "    }\n",
              "\n",
              "    .dataframe tbody tr th {\n",
              "        vertical-align: top;\n",
              "    }\n",
              "\n",
              "    .dataframe thead th {\n",
              "        text-align: right;\n",
              "    }\n",
              "</style>\n",
              "<table border=\"1\" class=\"dataframe\">\n",
              "  <thead>\n",
              "    <tr style=\"text-align: right;\">\n",
              "      <th></th>\n",
              "      <th>title</th>\n",
              "      <th>release_year</th>\n",
              "    </tr>\n",
              "  </thead>\n",
              "  <tbody>\n",
              "    <tr>\n",
              "      <th>0</th>\n",
              "      <td>Medical Police</td>\n",
              "      <td>2020</td>\n",
              "    </tr>\n",
              "    <tr>\n",
              "      <th>1</th>\n",
              "      <td>All the Freckles in the World</td>\n",
              "      <td>2020</td>\n",
              "    </tr>\n",
              "    <tr>\n",
              "      <th>2</th>\n",
              "      <td>Dracula</td>\n",
              "      <td>2020</td>\n",
              "    </tr>\n",
              "    <tr>\n",
              "      <th>3</th>\n",
              "      <td>Leslie Jones: Time Machine</td>\n",
              "      <td>2020</td>\n",
              "    </tr>\n",
              "    <tr>\n",
              "      <th>4</th>\n",
              "      <td>The Healing Powers of Dude</td>\n",
              "      <td>2020</td>\n",
              "    </tr>\n",
              "    <tr>\n",
              "      <th>5</th>\n",
              "      <td>Live Twice, Love Once</td>\n",
              "      <td>2020</td>\n",
              "    </tr>\n",
              "    <tr>\n",
              "      <th>6</th>\n",
              "      <td>Cheer</td>\n",
              "      <td>2020</td>\n",
              "    </tr>\n",
              "    <tr>\n",
              "      <th>7</th>\n",
              "      <td>AJ and the Queen</td>\n",
              "      <td>2020</td>\n",
              "    </tr>\n",
              "    <tr>\n",
              "      <th>8</th>\n",
              "      <td>Bulletproof 2</td>\n",
              "      <td>2020</td>\n",
              "    </tr>\n",
              "    <tr>\n",
              "      <th>9</th>\n",
              "      <td>Jamtara - Sabka Number Ayega</td>\n",
              "      <td>2020</td>\n",
              "    </tr>\n",
              "    <tr>\n",
              "      <th>10</th>\n",
              "      <td>Until Dawn</td>\n",
              "      <td>2020</td>\n",
              "    </tr>\n",
              "    <tr>\n",
              "      <th>11</th>\n",
              "      <td>Ghost Stories</td>\n",
              "      <td>2020</td>\n",
              "    </tr>\n",
              "    <tr>\n",
              "      <th>12</th>\n",
              "      <td>Messiah</td>\n",
              "      <td>2020</td>\n",
              "    </tr>\n",
              "    <tr>\n",
              "      <th>13</th>\n",
              "      <td>Maradona in Mexico</td>\n",
              "      <td>2020</td>\n",
              "    </tr>\n",
              "    <tr>\n",
              "      <th>14</th>\n",
              "      <td>Nisman: The Prosecutor, the President, and the...</td>\n",
              "      <td>2020</td>\n",
              "    </tr>\n",
              "  </tbody>\n",
              "</table>\n",
              "</div>"
            ],
            "text/plain": [
              "                                                title  release_year\n",
              "0                                      Medical Police          2020\n",
              "1                       All the Freckles in the World          2020\n",
              "2                                             Dracula          2020\n",
              "3                          Leslie Jones: Time Machine          2020\n",
              "4                          The Healing Powers of Dude          2020\n",
              "5                               Live Twice, Love Once          2020\n",
              "6                                               Cheer          2020\n",
              "7                                    AJ and the Queen          2020\n",
              "8                                       Bulletproof 2          2020\n",
              "9                        Jamtara - Sabka Number Ayega          2020\n",
              "10                                         Until Dawn          2020\n",
              "11                                      Ghost Stories          2020\n",
              "12                                            Messiah          2020\n",
              "13                                 Maradona in Mexico          2020\n",
              "14  Nisman: The Prosecutor, the President, and the...          2020"
            ]
          },
          "metadata": {
            "tags": []
          },
          "execution_count": 104
        }
      ]
    },
    {
      "cell_type": "code",
      "metadata": {
        "id": "wFBUjIcHC2Vi",
        "colab_type": "code",
        "colab": {}
      },
      "source": [
        "tanggal_keluar = pd.DataFrame(df['release_year'].value_counts().reset_index().values, columns=[\"year\",\"Count\"])"
      ],
      "execution_count": 105,
      "outputs": []
    },
    {
      "cell_type": "code",
      "metadata": {
        "id": "hQSAIckNEHf7",
        "colab_type": "code",
        "colab": {
          "base_uri": "https://localhost:8080/",
          "height": 419
        },
        "outputId": "08f84c28-5fd5-4482-901f-e2a3454594b6"
      },
      "source": [
        "tanggal_keluar.sort_values('year')"
      ],
      "execution_count": 108,
      "outputs": [
        {
          "output_type": "execute_result",
          "data": {
            "text/html": [
              "<div>\n",
              "<style scoped>\n",
              "    .dataframe tbody tr th:only-of-type {\n",
              "        vertical-align: middle;\n",
              "    }\n",
              "\n",
              "    .dataframe tbody tr th {\n",
              "        vertical-align: top;\n",
              "    }\n",
              "\n",
              "    .dataframe thead th {\n",
              "        text-align: right;\n",
              "    }\n",
              "</style>\n",
              "<table border=\"1\" class=\"dataframe\">\n",
              "  <thead>\n",
              "    <tr style=\"text-align: right;\">\n",
              "      <th></th>\n",
              "      <th>year</th>\n",
              "      <th>Count</th>\n",
              "    </tr>\n",
              "  </thead>\n",
              "  <tbody>\n",
              "    <tr>\n",
              "      <th>71</th>\n",
              "      <td>1925</td>\n",
              "      <td>1</td>\n",
              "    </tr>\n",
              "    <tr>\n",
              "      <th>60</th>\n",
              "      <td>1942</td>\n",
              "      <td>2</td>\n",
              "    </tr>\n",
              "    <tr>\n",
              "      <th>53</th>\n",
              "      <td>1943</td>\n",
              "      <td>3</td>\n",
              "    </tr>\n",
              "    <tr>\n",
              "      <th>57</th>\n",
              "      <td>1944</td>\n",
              "      <td>3</td>\n",
              "    </tr>\n",
              "    <tr>\n",
              "      <th>51</th>\n",
              "      <td>1945</td>\n",
              "      <td>3</td>\n",
              "    </tr>\n",
              "    <tr>\n",
              "      <th>...</th>\n",
              "      <td>...</td>\n",
              "      <td>...</td>\n",
              "    </tr>\n",
              "    <tr>\n",
              "      <th>3</th>\n",
              "      <td>2016</td>\n",
              "      <td>830</td>\n",
              "    </tr>\n",
              "    <tr>\n",
              "      <th>1</th>\n",
              "      <td>2017</td>\n",
              "      <td>959</td>\n",
              "    </tr>\n",
              "    <tr>\n",
              "      <th>0</th>\n",
              "      <td>2018</td>\n",
              "      <td>1063</td>\n",
              "    </tr>\n",
              "    <tr>\n",
              "      <th>2</th>\n",
              "      <td>2019</td>\n",
              "      <td>843</td>\n",
              "    </tr>\n",
              "    <tr>\n",
              "      <th>22</th>\n",
              "      <td>2020</td>\n",
              "      <td>25</td>\n",
              "    </tr>\n",
              "  </tbody>\n",
              "</table>\n",
              "<p>72 rows × 2 columns</p>\n",
              "</div>"
            ],
            "text/plain": [
              "    year  Count\n",
              "71  1925      1\n",
              "60  1942      2\n",
              "53  1943      3\n",
              "57  1944      3\n",
              "51  1945      3\n",
              "..   ...    ...\n",
              "3   2016    830\n",
              "1   2017    959\n",
              "0   2018   1063\n",
              "2   2019    843\n",
              "22  2020     25\n",
              "\n",
              "[72 rows x 2 columns]"
            ]
          },
          "metadata": {
            "tags": []
          },
          "execution_count": 108
        }
      ]
    },
    {
      "cell_type": "code",
      "metadata": {
        "id": "C7GaxwwfEJPl",
        "colab_type": "code",
        "colab": {
          "base_uri": "https://localhost:8080/",
          "height": 422
        },
        "outputId": "f11557ce-c5af-4ccb-9be3-a49941729567"
      },
      "source": [
        "plt.figure(figsize=(12,6))\n",
        "df[df[\"type\"]==\"Movie\"][\"release_year\"].value_counts()[:20].plot(kind=\"bar\",color=\"Red\")\n",
        "plt.title(\"Frequency of Movies which were released in different years and are available on Netflix\")"
      ],
      "execution_count": 110,
      "outputs": [
        {
          "output_type": "execute_result",
          "data": {
            "text/plain": [
              "Text(0.5, 1.0, 'Frequency of Movies which were released in different years and are available on Netflix')"
            ]
          },
          "metadata": {
            "tags": []
          },
          "execution_count": 110
        },
        {
          "output_type": "display_data",
          "data": {
            "image/png": "[encoded data removed]",
            "text/plain": [
              "<Figure size 864x432 with 1 Axes>"
            ]
          },
          "metadata": {
            "tags": [],
            "needs_background": "light"
          }
        }
      ]
    },
    {
      "cell_type": "code",
      "metadata": {
        "id": "r0kgEsdFE9pc",
        "colab_type": "code",
        "colab": {
          "base_uri": "https://localhost:8080/",
          "height": 423
        },
        "outputId": "86fd4fca-ce70-48f6-96e8-3b6057016bbc"
      },
      "source": [
        "plt.figure(figsize=(12,6))\n",
        "df[df[\"type\"]==\"TV Show\"][\"release_year\"].value_counts()[:20].plot(kind=\"bar\",color=\"Blue\")\n",
        "plt.title(\"Frequency of TV shows which were released in different years and are available on Netflix\")"
      ],
      "execution_count": 111,
      "outputs": [
        {
          "output_type": "execute_result",
          "data": {
            "text/plain": [
              "Text(0.5, 1.0, 'Frequency of TV shows which were released in different years and are available on Netflix')"
            ]
          },
          "metadata": {
            "tags": []
          },
          "execution_count": 111
        },
        {
          "output_type": "display_data",
          "data": {
            "image/png": "[encoded data removed]",
            "text/plain": [
              "<Figure size 864x432 with 1 Axes>"
            ]
          },
          "metadata": {
            "tags": [],
            "needs_background": "light"
          }
        }
      ]
    },
    {
      "cell_type": "code",
      "metadata": {
        "id": "fL-mBtX_FGbJ",
        "colab_type": "code",
        "colab": {
          "base_uri": "https://localhost:8080/",
          "height": 411
        },
        "outputId": "4b84979a-dab7-4029-b324-75355f52f7b1"
      },
      "source": [
        "plt.figure(figsize=(12,6))\n",
        "df[df[\"type\"]==\"Movie\"][\"listed_in\"].value_counts()[:10].plot(kind=\"barh\",color=\"black\")\n",
        "plt.title(\"Top 10 Genres of Movies\",size=18)"
      ],
      "execution_count": 112,
      "outputs": [
        {
          "output_type": "execute_result",
          "data": {
            "text/plain": [
              "Text(0.5, 1.0, 'Top 10 Genres of Movies')"
            ]
          },
          "metadata": {
            "tags": []
          },
          "execution_count": 112
        },
        {
          "output_type": "display_data",
          "data": {
            "image/png": "[encoded data removed]",
            "text/plain": [
              "<Figure size 864x432 with 1 Axes>"
            ]
          },
          "metadata": {
            "tags": [],
            "needs_background": "light"
          }
        }
      ]
    },
    {
      "cell_type": "code",
      "metadata": {
        "id": "RrXW22euFchB",
        "colab_type": "code",
        "colab": {
          "base_uri": "https://localhost:8080/",
          "height": 411
        },
        "outputId": "f053c2c6-6888-41ef-afdc-7ecf5f94cad9"
      },
      "source": [
        "plt.figure(figsize=(12,6))\n",
        "df[df[\"type\"]==\"TV Show\"][\"listed_in\"].value_counts()[:10].plot(kind=\"barh\",color=\"brown\")\n",
        "plt.title(\"Top 10 Genres of TV Shows\",size=18)"
      ],
      "execution_count": 113,
      "outputs": [
        {
          "output_type": "execute_result",
          "data": {
            "text/plain": [
              "Text(0.5, 1.0, 'Top 10 Genres of TV Shows')"
            ]
          },
          "metadata": {
            "tags": []
          },
          "execution_count": 113
        },
        {
          "output_type": "display_data",
          "data": {
            "image/png": "[encoded data removed]",
            "text/plain": [
              "<Figure size 864x432 with 1 Axes>"
            ]
          },
          "metadata": {
            "tags": [],
            "needs_background": "light"
          }
        }
      ]
    },
    {
      "cell_type": "code",
      "metadata": {
        "id": "OhBsTMPHFiDl",
        "colab_type": "code",
        "colab": {}
      },
      "source": [
        ""
      ],
      "execution_count": null,
      "outputs": []
    }
  ]
}