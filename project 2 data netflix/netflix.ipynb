{
  "nbformat": 4,
  "nbformat_minor": 0,
  "metadata": {
    "colab": {
      "name": "netflix.ipynb",
      "provenance": [],
      "authorship_tag": "ABX9TyPhu5cY3ywWL3ZvpytAJYrp",
      "include_colab_link": true
    },
    "kernelspec": {
      "name": "python3",
      "display_name": "Python 3"
    },
    "accelerator": "GPU"
  },
  "cells": [
    {
      "cell_type": "markdown",
      "metadata": {
        "id": "view-in-github",
        "colab_type": "text"
      },
      "source": [
        "<a href=\"https://colab.research.google.com/github/setyo-dwi-pratama/data-analyst/blob/master/netflix.ipynb\" target=\"_parent\"><img src=\"https://colab.research.google.com/assets/colab-badge.svg\" alt=\"Open In Colab\"/></a>"
      ]
    },
    {
      "cell_type": "markdown",
      "metadata": {
        "id": "vRU2SS89fwNp",
        "colab_type": "text"
      },
      "source": [
        "# **NETFLIX**\n",
        "\n",
        "Dataset yang digunakan adalah dataset netflix. \n",
        "\n",
        "Netflix adalah salah satu penyedia layanan media streaming digital yang berkantor pusat di california, Amerika Serikat. Bisnis utama dari perusahan ini adalah layanan berlangganan streaming yang mana ditawarkan secara online dengan beberapa program film dan acara televisi, termasuk beberapa program yang dibuat oleh netflix sendiri."
      ]
    },
    {
      "cell_type": "markdown",
      "metadata": {
        "id": "inSC_NbZeZFI",
        "colab_type": "text"
      },
      "source": [
        "# Packages yang dibutuhkan:"
      ]
    },
    {
      "cell_type": "code",
      "metadata": {
        "id": "xhIagEyWjeJC",
        "colab_type": "code",
        "colab": {}
      },
      "source": [
        "import numpy as np\n",
        "import pandas as pd\n",
        "import seaborn as sns\n",
        "import matplotlib.pyplot as plt"
      ],
      "execution_count": 2,
      "outputs": []
    },
    {
      "cell_type": "markdown",
      "metadata": {
        "id": "QUsT9YpGfhEF",
        "colab_type": "text"
      },
      "source": [
        "# Input data Netflix dari github:"
      ]
    },
    {
      "cell_type": "code",
      "metadata": {
        "id": "ZG1UH9vpk2h7",
        "colab_type": "code",
        "colab": {}
      },
      "source": [
        "df = pd.read_csv('https://raw.githubusercontent.com/setyo-dwi-pratama/data-analyst/master/netflix_titles.csv')"
      ],
      "execution_count": 3,
      "outputs": []
    },
    {
      "cell_type": "code",
      "metadata": {
        "id": "M1Uhb0yLlKLa",
        "colab_type": "code",
        "colab": {
          "base_uri": "https://localhost:8080/",
          "height": 493
        },
        "outputId": "1c0d095f-2804-4afb-9d3c-64dd329af047"
      },
      "source": [
        "df.head() #menampilkan 5 data teratas dari sebuah dataset"
      ],
      "execution_count": 4,
      "outputs": [
        {
          "output_type": "execute_result",
          "data": {
            "text/html": [
              "<div>\n",
              "<style scoped>\n",
              "    .dataframe tbody tr th:only-of-type {\n",
              "        vertical-align: middle;\n",
              "    }\n",
              "\n",
              "    .dataframe tbody tr th {\n",
              "        vertical-align: top;\n",
              "    }\n",
              "\n",
              "    .dataframe thead th {\n",
              "        text-align: right;\n",
              "    }\n",
              "</style>\n",
              "<table border=\"1\" class=\"dataframe\">\n",
              "  <thead>\n",
              "    <tr style=\"text-align: right;\">\n",
              "      <th></th>\n",
              "      <th>show_id</th>\n",
              "      <th>type</th>\n",
              "      <th>title</th>\n",
              "      <th>director</th>\n",
              "      <th>cast</th>\n",
              "      <th>country</th>\n",
              "      <th>date_added</th>\n",
              "      <th>release_year</th>\n",
              "      <th>rating</th>\n",
              "      <th>duration</th>\n",
              "      <th>listed_in</th>\n",
              "      <th>description</th>\n",
              "    </tr>\n",
              "  </thead>\n",
              "  <tbody>\n",
              "    <tr>\n",
              "      <th>0</th>\n",
              "      <td>81145628</td>\n",
              "      <td>Movie</td>\n",
              "      <td>Norm of the North: King Sized Adventure</td>\n",
              "      <td>Richard Finn, Tim Maltby</td>\n",
              "      <td>Alan Marriott, Andrew Toth, Brian Dobson, Cole...</td>\n",
              "      <td>United States, India, South Korea, China</td>\n",
              "      <td>September 9, 2019</td>\n",
              "      <td>2019</td>\n",
              "      <td>TV-PG</td>\n",
              "      <td>90 min</td>\n",
              "      <td>Children &amp; Family Movies, Comedies</td>\n",
              "      <td>Before planning an awesome wedding for his gra...</td>\n",
              "    </tr>\n",
              "    <tr>\n",
              "      <th>1</th>\n",
              "      <td>80117401</td>\n",
              "      <td>Movie</td>\n",
              "      <td>Jandino: Whatever it Takes</td>\n",
              "      <td>NaN</td>\n",
              "      <td>Jandino Asporaat</td>\n",
              "      <td>United Kingdom</td>\n",
              "      <td>September 9, 2016</td>\n",
              "      <td>2016</td>\n",
              "      <td>TV-MA</td>\n",
              "      <td>94 min</td>\n",
              "      <td>Stand-Up Comedy</td>\n",
              "      <td>Jandino Asporaat riffs on the challenges of ra...</td>\n",
              "    </tr>\n",
              "    <tr>\n",
              "      <th>2</th>\n",
              "      <td>70234439</td>\n",
              "      <td>TV Show</td>\n",
              "      <td>Transformers Prime</td>\n",
              "      <td>NaN</td>\n",
              "      <td>Peter Cullen, Sumalee Montano, Frank Welker, J...</td>\n",
              "      <td>United States</td>\n",
              "      <td>September 8, 2018</td>\n",
              "      <td>2013</td>\n",
              "      <td>TV-Y7-FV</td>\n",
              "      <td>1 Season</td>\n",
              "      <td>Kids' TV</td>\n",
              "      <td>With the help of three human allies, the Autob...</td>\n",
              "    </tr>\n",
              "    <tr>\n",
              "      <th>3</th>\n",
              "      <td>80058654</td>\n",
              "      <td>TV Show</td>\n",
              "      <td>Transformers: Robots in Disguise</td>\n",
              "      <td>NaN</td>\n",
              "      <td>Will Friedle, Darren Criss, Constance Zimmer, ...</td>\n",
              "      <td>United States</td>\n",
              "      <td>September 8, 2018</td>\n",
              "      <td>2016</td>\n",
              "      <td>TV-Y7</td>\n",
              "      <td>1 Season</td>\n",
              "      <td>Kids' TV</td>\n",
              "      <td>When a prison ship crash unleashes hundreds of...</td>\n",
              "    </tr>\n",
              "    <tr>\n",
              "      <th>4</th>\n",
              "      <td>80125979</td>\n",
              "      <td>Movie</td>\n",
              "      <td>#realityhigh</td>\n",
              "      <td>Fernando Lebrija</td>\n",
              "      <td>Nesta Cooper, Kate Walsh, John Michael Higgins...</td>\n",
              "      <td>United States</td>\n",
              "      <td>September 8, 2017</td>\n",
              "      <td>2017</td>\n",
              "      <td>TV-14</td>\n",
              "      <td>99 min</td>\n",
              "      <td>Comedies</td>\n",
              "      <td>When nerdy high schooler Dani finally attracts...</td>\n",
              "    </tr>\n",
              "  </tbody>\n",
              "</table>\n",
              "</div>"
            ],
            "text/plain": [
              "    show_id  ...                                        description\n",
              "0  81145628  ...  Before planning an awesome wedding for his gra...\n",
              "1  80117401  ...  Jandino Asporaat riffs on the challenges of ra...\n",
              "2  70234439  ...  With the help of three human allies, the Autob...\n",
              "3  80058654  ...  When a prison ship crash unleashes hundreds of...\n",
              "4  80125979  ...  When nerdy high schooler Dani finally attracts...\n",
              "\n",
              "[5 rows x 12 columns]"
            ]
          },
          "metadata": {
            "tags": []
          },
          "execution_count": 4
        }
      ]
    },
    {
      "cell_type": "code",
      "metadata": {
        "id": "jL9YkIEki3Wm",
        "colab_type": "code",
        "colab": {
          "base_uri": "https://localhost:8080/",
          "height": 459
        },
        "outputId": "32e33646-b3fe-48dc-8422-fc939be74252"
      },
      "source": [
        "df.tail() #melihat 5 dataset terbawah dari sebuah dataset"
      ],
      "execution_count": 5,
      "outputs": [
        {
          "output_type": "execute_result",
          "data": {
            "text/html": [
              "<div>\n",
              "<style scoped>\n",
              "    .dataframe tbody tr th:only-of-type {\n",
              "        vertical-align: middle;\n",
              "    }\n",
              "\n",
              "    .dataframe tbody tr th {\n",
              "        vertical-align: top;\n",
              "    }\n",
              "\n",
              "    .dataframe thead th {\n",
              "        text-align: right;\n",
              "    }\n",
              "</style>\n",
              "<table border=\"1\" class=\"dataframe\">\n",
              "  <thead>\n",
              "    <tr style=\"text-align: right;\">\n",
              "      <th></th>\n",
              "      <th>show_id</th>\n",
              "      <th>type</th>\n",
              "      <th>title</th>\n",
              "      <th>director</th>\n",
              "      <th>cast</th>\n",
              "      <th>country</th>\n",
              "      <th>date_added</th>\n",
              "      <th>release_year</th>\n",
              "      <th>rating</th>\n",
              "      <th>duration</th>\n",
              "      <th>listed_in</th>\n",
              "      <th>description</th>\n",
              "    </tr>\n",
              "  </thead>\n",
              "  <tbody>\n",
              "    <tr>\n",
              "      <th>6229</th>\n",
              "      <td>80000063</td>\n",
              "      <td>TV Show</td>\n",
              "      <td>Red vs. Blue</td>\n",
              "      <td>NaN</td>\n",
              "      <td>Burnie Burns, Jason Saldaña, Gustavo Sorola, G...</td>\n",
              "      <td>United States</td>\n",
              "      <td>NaN</td>\n",
              "      <td>2015</td>\n",
              "      <td>NR</td>\n",
              "      <td>13 Seasons</td>\n",
              "      <td>TV Action &amp; Adventure, TV Comedies, TV Sci-Fi ...</td>\n",
              "      <td>This parody of first-person shooter games, mil...</td>\n",
              "    </tr>\n",
              "    <tr>\n",
              "      <th>6230</th>\n",
              "      <td>70286564</td>\n",
              "      <td>TV Show</td>\n",
              "      <td>Maron</td>\n",
              "      <td>NaN</td>\n",
              "      <td>Marc Maron, Judd Hirsch, Josh Brener, Nora Zeh...</td>\n",
              "      <td>United States</td>\n",
              "      <td>NaN</td>\n",
              "      <td>2016</td>\n",
              "      <td>TV-MA</td>\n",
              "      <td>4 Seasons</td>\n",
              "      <td>TV Comedies</td>\n",
              "      <td>Marc Maron stars as Marc Maron, who interviews...</td>\n",
              "    </tr>\n",
              "    <tr>\n",
              "      <th>6231</th>\n",
              "      <td>80116008</td>\n",
              "      <td>Movie</td>\n",
              "      <td>Little Baby Bum: Nursery Rhyme Friends</td>\n",
              "      <td>NaN</td>\n",
              "      <td>NaN</td>\n",
              "      <td>NaN</td>\n",
              "      <td>NaN</td>\n",
              "      <td>2016</td>\n",
              "      <td>NaN</td>\n",
              "      <td>60 min</td>\n",
              "      <td>Movies</td>\n",
              "      <td>Nursery rhymes and original music for children...</td>\n",
              "    </tr>\n",
              "    <tr>\n",
              "      <th>6232</th>\n",
              "      <td>70281022</td>\n",
              "      <td>TV Show</td>\n",
              "      <td>A Young Doctor's Notebook and Other Stories</td>\n",
              "      <td>NaN</td>\n",
              "      <td>Daniel Radcliffe, Jon Hamm, Adam Godley, Chris...</td>\n",
              "      <td>United Kingdom</td>\n",
              "      <td>NaN</td>\n",
              "      <td>2013</td>\n",
              "      <td>TV-MA</td>\n",
              "      <td>2 Seasons</td>\n",
              "      <td>British TV Shows, TV Comedies, TV Dramas</td>\n",
              "      <td>Set during the Russian Revolution, this comic ...</td>\n",
              "    </tr>\n",
              "    <tr>\n",
              "      <th>6233</th>\n",
              "      <td>70153404</td>\n",
              "      <td>TV Show</td>\n",
              "      <td>Friends</td>\n",
              "      <td>NaN</td>\n",
              "      <td>Jennifer Aniston, Courteney Cox, Lisa Kudrow, ...</td>\n",
              "      <td>United States</td>\n",
              "      <td>NaN</td>\n",
              "      <td>2003</td>\n",
              "      <td>TV-14</td>\n",
              "      <td>10 Seasons</td>\n",
              "      <td>Classic &amp; Cult TV, TV Comedies</td>\n",
              "      <td>This hit sitcom follows the merry misadventure...</td>\n",
              "    </tr>\n",
              "  </tbody>\n",
              "</table>\n",
              "</div>"
            ],
            "text/plain": [
              "       show_id  ...                                        description\n",
              "6229  80000063  ...  This parody of first-person shooter games, mil...\n",
              "6230  70286564  ...  Marc Maron stars as Marc Maron, who interviews...\n",
              "6231  80116008  ...  Nursery rhymes and original music for children...\n",
              "6232  70281022  ...  Set during the Russian Revolution, this comic ...\n",
              "6233  70153404  ...  This hit sitcom follows the merry misadventure...\n",
              "\n",
              "[5 rows x 12 columns]"
            ]
          },
          "metadata": {
            "tags": []
          },
          "execution_count": 5
        }
      ]
    },
    {
      "cell_type": "code",
      "metadata": {
        "id": "fnXUTEgYlMaz",
        "colab_type": "code",
        "colab": {
          "base_uri": "https://localhost:8080/",
          "height": 340
        },
        "outputId": "9ef60533-8ec5-4f5b-9b13-3b8ea787c124"
      },
      "source": [
        "df.info()"
      ],
      "execution_count": 6,
      "outputs": [
        {
          "output_type": "stream",
          "text": [
            "<class 'pandas.core.frame.DataFrame'>\n",
            "RangeIndex: 6234 entries, 0 to 6233\n",
            "Data columns (total 12 columns):\n",
            " #   Column        Non-Null Count  Dtype \n",
            "---  ------        --------------  ----- \n",
            " 0   show_id       6234 non-null   int64 \n",
            " 1   type          6234 non-null   object\n",
            " 2   title         6234 non-null   object\n",
            " 3   director      4265 non-null   object\n",
            " 4   cast          5664 non-null   object\n",
            " 5   country       5758 non-null   object\n",
            " 6   date_added    6223 non-null   object\n",
            " 7   release_year  6234 non-null   int64 \n",
            " 8   rating        6224 non-null   object\n",
            " 9   duration      6234 non-null   object\n",
            " 10  listed_in     6234 non-null   object\n",
            " 11  description   6234 non-null   object\n",
            "dtypes: int64(2), object(10)\n",
            "memory usage: 584.6+ KB\n"
          ],
          "name": "stdout"
        }
      ]
    },
    {
      "cell_type": "markdown",
      "metadata": {
        "id": "dUJRD-rvjSKE",
        "colab_type": "text"
      },
      "source": [
        "# Mengatasi Missing Value dari sebuah dataset:"
      ]
    },
    {
      "cell_type": "code",
      "metadata": {
        "id": "RmR4spETlc9C",
        "colab_type": "code",
        "colab": {
          "base_uri": "https://localhost:8080/",
          "height": 238
        },
        "outputId": "4f320e19-20f2-436e-90d4-fe079905d1da"
      },
      "source": [
        "df.isnull().sum() #Melihat jumlah missing value dari setiap kolom dataset"
      ],
      "execution_count": 7,
      "outputs": [
        {
          "output_type": "execute_result",
          "data": {
            "text/plain": [
              "show_id            0\n",
              "type               0\n",
              "title              0\n",
              "director        1969\n",
              "cast             570\n",
              "country          476\n",
              "date_added        11\n",
              "release_year       0\n",
              "rating            10\n",
              "duration           0\n",
              "listed_in          0\n",
              "description        0\n",
              "dtype: int64"
            ]
          },
          "metadata": {
            "tags": []
          },
          "execution_count": 7
        }
      ]
    },
    {
      "cell_type": "code",
      "metadata": {
        "id": "LLqkKqjWn2uJ",
        "colab_type": "code",
        "colab": {
          "base_uri": "https://localhost:8080/",
          "height": 340
        },
        "outputId": "0bbbc154-6dab-448d-de99-8669294cdbb0"
      },
      "source": [
        "sns.heatmap(df.isnull(), cmap=\"plasma\") #Melihat jumlah missing value dari setiap kolom dataset menggunakan visualisasi packages seaborn"
      ],
      "execution_count": 8,
      "outputs": [
        {
          "output_type": "execute_result",
          "data": {
            "text/plain": [
              "<matplotlib.axes._subplots.AxesSubplot at 0x7f20901cc400>"
            ]
          },
          "metadata": {
            "tags": []
          },
          "execution_count": 8
        },
        {
          "output_type": "display_data",
          "data": {
            "image/png": "[encoded data removed]",
            "text/plain": [
              "<Figure size 432x288 with 2 Axes>"
            ]
          },
          "metadata": {
            "tags": [],
            "needs_background": "light"
          }
        }
      ]
    },
    {
      "cell_type": "markdown",
      "metadata": {
        "id": "E9HZtCMJkHJa",
        "colab_type": "text"
      },
      "source": [
        "Berdasarkan Kasus pada dataset ini, kita akan mengahapus beberapa kolom yaitu kolom director (Produser), cast (artis/pemeran), dan date_added (waktu pembuatan). Alasan menghapus, karena tidak ada pengaruh khusus pada analisis yang sekarang"
      ]
    },
    {
      "cell_type": "code",
      "metadata": {
        "id": "okC0whfF5bC4",
        "colab_type": "code",
        "colab": {}
      },
      "source": [
        "#hapus data pada axis=1 (kolom), yang nama kolomnya yaitu director, cast, date_added dan kembalikan ke dataset awal (inplace=True)\n",
        "df.drop(['director','cast','date_added'], axis=1, inplace=True)"
      ],
      "execution_count": 9,
      "outputs": []
    },
    {
      "cell_type": "markdown",
      "metadata": {
        "id": "mmFWg5Siliyr",
        "colab_type": "text"
      },
      "source": [
        "Berdasarkan Kasus pada dataset ini, pada kolom country terdapat mising value sebanyak 476.\n",
        "\n",
        "Kita akan mengisi missing value pada kolom country dengan United States, Alasan menghapus, karena netflix merupakan kantor yang berpusat di country United States"
      ]
    },
    {
      "cell_type": "code",
      "metadata": {
        "id": "9002gWxI57Td",
        "colab_type": "code",
        "colab": {}
      },
      "source": [
        "#ganti data pada kolom country yang terdapat missing value dengan 'United States' dan kembalikan ke dataset awal (inplace=True)\n",
        "df['country'].replace(np.nan, 'United States', inplace=True)"
      ],
      "execution_count": 10,
      "outputs": []
    },
    {
      "cell_type": "markdown",
      "metadata": {
        "id": "5LyqUzqSm3D3",
        "colab_type": "text"
      },
      "source": [
        "Berdasarkan Kasus pada dataset ini, pada kolom rating terdapat missing value sebanyak 10.\n",
        "\n",
        "Kita akan mengisi missing value pada kolom rating dengan TV-MA. Alasan menghapus, karena berdasarkan data rating pada 'TV-MA' sangat tinggi\n",
        "\n",
        "perhatikan banyaknya (TV-MA) sebelum dan sesudah diisi missing value dengan 'TV-MA"
      ]
    },
    {
      "cell_type": "code",
      "metadata": {
        "id": "MHOqYI1JnY-D",
        "colab_type": "code",
        "colab": {
          "base_uri": "https://localhost:8080/",
          "height": 272
        },
        "outputId": "152c4745-17ac-447e-932f-c0148af90767"
      },
      "source": [
        "# melihat banyaknya rating sebelum diganti missing value nya dengan 'TV-MA' \n",
        "df.rating.value_counts()"
      ],
      "execution_count": 19,
      "outputs": [
        {
          "output_type": "execute_result",
          "data": {
            "text/plain": [
              "TV-MA       2037\n",
              "TV-14       1698\n",
              "TV-PG        701\n",
              "R            508\n",
              "PG-13        286\n",
              "NR           218\n",
              "PG           184\n",
              "TV-Y7        169\n",
              "TV-G         149\n",
              "TV-Y         143\n",
              "TV-Y7-FV      95\n",
              "G             37\n",
              "UR             7\n",
              "NC-17          2\n",
              "Name: rating, dtype: int64"
            ]
          },
          "metadata": {
            "tags": []
          },
          "execution_count": 19
        }
      ]
    },
    {
      "cell_type": "code",
      "metadata": {
        "id": "DAOVtSsH8xwH",
        "colab_type": "code",
        "colab": {}
      },
      "source": [
        "# mengisi semua missing value dalam kolom rating dengan data 'TV-MA'\n",
        "df['rating'].replace(np.nan, 'TV-MA', inplace=True)"
      ],
      "execution_count": 20,
      "outputs": []
    },
    {
      "cell_type": "code",
      "metadata": {
        "id": "hc_XI4HNnkqh",
        "colab_type": "code",
        "colab": {
          "base_uri": "https://localhost:8080/",
          "height": 272
        },
        "outputId": "91f2fb74-6326-4156-a4a3-b17285a0ea9e"
      },
      "source": [
        "# melihat banyaknya rating sesudah diganti missing value nya dengan 'TV-MA'\n",
        "df.rating.value_counts()"
      ],
      "execution_count": 21,
      "outputs": [
        {
          "output_type": "execute_result",
          "data": {
            "text/plain": [
              "TV-MA       2037\n",
              "TV-14       1698\n",
              "TV-PG        701\n",
              "R            508\n",
              "PG-13        286\n",
              "NR           218\n",
              "PG           184\n",
              "TV-Y7        169\n",
              "TV-G         149\n",
              "TV-Y         143\n",
              "TV-Y7-FV      95\n",
              "G             37\n",
              "UR             7\n",
              "NC-17          2\n",
              "Name: rating, dtype: int64"
            ]
          },
          "metadata": {
            "tags": []
          },
          "execution_count": 21
        }
      ]
    },
    {
      "cell_type": "code",
      "metadata": {
        "id": "QVnUu7eG7NDA",
        "colab_type": "code",
        "colab": {
          "base_uri": "https://localhost:8080/",
          "height": 340
        },
        "outputId": "d426312b-5ecd-44c4-d18f-abde770fd942"
      },
      "source": [
        "# selesai menghandle missing value, lihat kembali dataset yang kita miliki dengan menggunakan visualisasi packages seaborn\n",
        "sns.heatmap(df.isnull(), cmap=\"plasma\")"
      ],
      "execution_count": 22,
      "outputs": [
        {
          "output_type": "execute_result",
          "data": {
            "text/plain": [
              "<matplotlib.axes._subplots.AxesSubplot at 0x7f208c5e3fd0>"
            ]
          },
          "metadata": {
            "tags": []
          },
          "execution_count": 22
        },
        {
          "output_type": "display_data",
          "data": {
            "image/png": "[encoded data removed]",
            "text/plain": [
              "<Figure size 432x288 with 2 Axes>"
            ]
          },
          "metadata": {
            "tags": [],
            "needs_background": "light"
          }
        }
      ]
    },
    {
      "cell_type": "markdown",
      "metadata": {
        "id": "L3xPKDEwqP1_",
        "colab_type": "text"
      },
      "source": [
        "# Analisis dan Visualisasi Data:"
      ]
    },
    {
      "cell_type": "markdown",
      "metadata": {
        "id": "v-QgeLHxqtjG",
        "colab_type": "text"
      },
      "source": [
        "## Melihat banyaknya data berdasarkan kolom type:"
      ]
    },
    {
      "cell_type": "code",
      "metadata": {
        "id": "anC_cqx3-Hrh",
        "colab_type": "code",
        "colab": {
          "base_uri": "https://localhost:8080/",
          "height": 68
        },
        "outputId": "8350a35d-0722-45fc-ab00-7762815288ef"
      },
      "source": [
        "# melihat banyak nya data berdasarkan kolom type\n",
        "df['type'].value_counts()"
      ],
      "execution_count": 23,
      "outputs": [
        {
          "output_type": "execute_result",
          "data": {
            "text/plain": [
              "Movie      4265\n",
              "TV Show    1969\n",
              "Name: type, dtype: int64"
            ]
          },
          "metadata": {
            "tags": []
          },
          "execution_count": 23
        }
      ]
    },
    {
      "cell_type": "code",
      "metadata": {
        "id": "c0EBv2c4-dLr",
        "colab_type": "code",
        "colab": {
          "base_uri": "https://localhost:8080/",
          "height": 296
        },
        "outputId": "c67c1e05-e15b-47ba-cad1-579622b248e1"
      },
      "source": [
        "# visualisasi dengan seaborn\n",
        "sns.countplot(x='type', data=df)"
      ],
      "execution_count": 24,
      "outputs": [
        {
          "output_type": "execute_result",
          "data": {
            "text/plain": [
              "<matplotlib.axes._subplots.AxesSubplot at 0x7f208c0af4e0>"
            ]
          },
          "metadata": {
            "tags": []
          },
          "execution_count": 24
        },
        {
          "output_type": "display_data",
          "data": {
            "image/png": "[encoded data removed]",
            "text/plain": [
              "<Figure size 432x288 with 1 Axes>"
            ]
          },
          "metadata": {
            "tags": [],
            "needs_background": "light"
          }
        }
      ]
    },
    {
      "cell_type": "markdown",
      "metadata": {
        "id": "ITRP6C-HrGLQ",
        "colab_type": "text"
      },
      "source": [
        "Berdasarkan kolom type, ternyata kita mempunyai data yang terdominasi dengan movie (film) dibandingan TV Show (Acara TV)"
      ]
    },
    {
      "cell_type": "markdown",
      "metadata": {
        "id": "4BkUwc6zrgbJ",
        "colab_type": "text"
      },
      "source": [
        "## Melihat banyaknya data berdasarkan kolom rating:"
      ]
    },
    {
      "cell_type": "code",
      "metadata": {
        "id": "sDu7GuvWsQne",
        "colab_type": "code",
        "colab": {
          "base_uri": "https://localhost:8080/",
          "height": 272
        },
        "outputId": "95afa4d4-47d4-4129-a6a6-a21d20bbb7f7"
      },
      "source": [
        "# melihat banyak nya data berdasarkan kolom rating\n",
        "df.rating.value_counts()"
      ],
      "execution_count": 25,
      "outputs": [
        {
          "output_type": "execute_result",
          "data": {
            "text/plain": [
              "TV-MA       2037\n",
              "TV-14       1698\n",
              "TV-PG        701\n",
              "R            508\n",
              "PG-13        286\n",
              "NR           218\n",
              "PG           184\n",
              "TV-Y7        169\n",
              "TV-G         149\n",
              "TV-Y         143\n",
              "TV-Y7-FV      95\n",
              "G             37\n",
              "UR             7\n",
              "NC-17          2\n",
              "Name: rating, dtype: int64"
            ]
          },
          "metadata": {
            "tags": []
          },
          "execution_count": 25
        }
      ]
    },
    {
      "cell_type": "code",
      "metadata": {
        "id": "3XvbugO71x0f",
        "colab_type": "code",
        "colab": {
          "base_uri": "https://localhost:8080/",
          "height": 378
        },
        "outputId": "add12f13-2fa2-4d94-8464-56acad62e61d"
      },
      "source": [
        "# visualisasi dengan seaborn\n",
        "plt.figure(figsize=(30,8)) #memperbesar ukuran figure(panjang,lebar)\n",
        "sns.countplot(x='rating', data=df, color=\"green\")"
      ],
      "execution_count": 26,
      "outputs": [
        {
          "output_type": "execute_result",
          "data": {
            "text/plain": [
              "<matplotlib.axes._subplots.AxesSubplot at 0x7f208c0eab70>"
            ]
          },
          "metadata": {
            "tags": []
          },
          "execution_count": 26
        },
        {
          "output_type": "display_data",
          "data": {
            "image/png": "[encoded data removed]",
            "text/plain": [
              "<Figure size 2160x576 with 1 Axes>"
            ]
          },
          "metadata": {
            "tags": [],
            "needs_background": "light"
          }
        }
      ]
    },
    {
      "cell_type": "markdown",
      "metadata": {
        "id": "YgEo-92xsK6t",
        "colab_type": "text"
      },
      "source": [
        "Berdasarkan kolom rating:\n",
        "\n",
        "TV-MA mempunyai rating tertinggi\n",
        "\n",
        "NC-17 mempunyai rating terendah"
      ]
    },
    {
      "cell_type": "markdown",
      "metadata": {
        "id": "BIrzxWAysxvM",
        "colab_type": "text"
      },
      "source": [
        "## Melihat banyaknya data berdasarkan tahun realese dari semua type:"
      ]
    },
    {
      "cell_type": "code",
      "metadata": {
        "id": "rKVggPKWsX5L",
        "colab_type": "code",
        "colab": {
          "base_uri": "https://localhost:8080/",
          "height": 221
        },
        "outputId": "6a8c4e66-c2d7-4b77-983a-74549714805c"
      },
      "source": [
        "#melihat banyaknya data berdasarkan tahun realese\n",
        "df.release_year.value_counts()"
      ],
      "execution_count": 27,
      "outputs": [
        {
          "output_type": "execute_result",
          "data": {
            "text/plain": [
              "2018    1063\n",
              "2017     959\n",
              "2019     843\n",
              "2016     830\n",
              "2015     517\n",
              "        ... \n",
              "1959       1\n",
              "1963       1\n",
              "1964       1\n",
              "1956       1\n",
              "1925       1\n",
              "Name: release_year, Length: 72, dtype: int64"
            ]
          },
          "metadata": {
            "tags": []
          },
          "execution_count": 27
        }
      ]
    },
    {
      "cell_type": "code",
      "metadata": {
        "id": "hpUIw5MCstS5",
        "colab_type": "code",
        "colab": {
          "base_uri": "https://localhost:8080/",
          "height": 354
        },
        "outputId": "4f58c89f-b7eb-4350-9eba-1019a3efd128"
      },
      "source": [
        "# Visualisasi dengan seaborn\n",
        "plt.figure(figsize=(40,10)) #memperbesar figur(panjang,lebar)\n",
        "sns.countplot(x='release_year', data=df, saturation=1, color=\"green\")"
      ],
      "execution_count": 28,
      "outputs": [
        {
          "output_type": "execute_result",
          "data": {
            "text/plain": [
              "<matplotlib.axes._subplots.AxesSubplot at 0x7f208bfb2dd8>"
            ]
          },
          "metadata": {
            "tags": []
          },
          "execution_count": 28
        },
        {
          "output_type": "display_data",
          "data": {
            "image/png": "[encoded data removed]",
            "text/plain": [
              "<Figure size 2880x720 with 1 Axes>"
            ]
          },
          "metadata": {
            "tags": [],
            "needs_background": "light"
          }
        }
      ]
    },
    {
      "cell_type": "markdown",
      "metadata": {
        "id": "2DyWQSMktkuR",
        "colab_type": "text"
      },
      "source": [
        "Berdasarkan tahun realesenya, ditahun 2018 merupakan tahun realese terbanyak dari netflix, tapi kita belum mengetahui secara pasti ditahun tersebut type apa yang banyak diantara movie dan TV-Show"
      ]
    },
    {
      "cell_type": "markdown",
      "metadata": {
        "id": "cr4zTWpkvw9n",
        "colab_type": "text"
      },
      "source": [
        "## Melihat rating berdasarkan typenya:"
      ]
    },
    {
      "cell_type": "code",
      "metadata": {
        "id": "CTk0STDH4rlQ",
        "colab_type": "code",
        "colab": {
          "base_uri": "https://localhost:8080/",
          "height": 351
        },
        "outputId": "81443ae9-167f-4bff-e135-5ecd25f654db"
      },
      "source": [
        "# Visualisasi seaborn\n",
        "plt.figure(figsize=(10,5)) #memperbersar figure(panjang,lebar)\n",
        "sns.countplot(x='rating', data=df, hue='type')"
      ],
      "execution_count": 30,
      "outputs": [
        {
          "output_type": "execute_result",
          "data": {
            "text/plain": [
              "<matplotlib.axes._subplots.AxesSubplot at 0x7f208bd98b00>"
            ]
          },
          "metadata": {
            "tags": []
          },
          "execution_count": 30
        },
        {
          "output_type": "display_data",
          "data": {
            "image/png": "[encoded data removed]",
            "text/plain": [
              "<Figure size 720x360 with 1 Axes>"
            ]
          },
          "metadata": {
            "tags": [],
            "needs_background": "light"
          }
        }
      ]
    },
    {
      "cell_type": "markdown",
      "metadata": {
        "id": "ZyI4x6eCwKbi",
        "colab_type": "text"
      },
      "source": [
        "berdasrkan visualisai, kita dapat melihat bahwa rating TV-MA pada movie mempunyai rating yang tinggi dibandingkan TV-Show. Sedangkan pada TV-Y7 sebaliknya dengan TV-MA, yaitu TV-Show mempunyai rating tinggi dibandingkan dengan movie "
      ]
    },
    {
      "cell_type": "markdown",
      "metadata": {
        "id": "VSjhCqYKxTc2",
        "colab_type": "text"
      },
      "source": [
        "## Melihat 10 Movie/TV Show Tertua dari sebuah dataset netflix:"
      ]
    },
    {
      "cell_type": "code",
      "metadata": {
        "id": "NvJPpsW6_1O4",
        "colab_type": "code",
        "colab": {}
      },
      "source": [
        "# membuat variabel dengan nama tahun_tua\n",
        "# dari dataset yang dimiliki, akan di urutkan berdasarkan kolom release_year dan mereset index nya kembali\n",
        "tahun_tua = df.sort_values(\"release_year\", ascending=True, ignore_index=True)"
      ],
      "execution_count": 31,
      "outputs": []
    },
    {
      "cell_type": "code",
      "metadata": {
        "id": "i70GsYmrA8pG",
        "colab_type": "code",
        "colab": {
          "base_uri": "https://localhost:8080/",
          "height": 589
        },
        "outputId": "c3d935ca-5671-4bd1-d804-e2f51d633986"
      },
      "source": [
        "tahun_tua"
      ],
      "execution_count": 32,
      "outputs": [
        {
          "output_type": "execute_result",
          "data": {
            "text/html": [
              "<div>\n",
              "<style scoped>\n",
              "    .dataframe tbody tr th:only-of-type {\n",
              "        vertical-align: middle;\n",
              "    }\n",
              "\n",
              "    .dataframe tbody tr th {\n",
              "        vertical-align: top;\n",
              "    }\n",
              "\n",
              "    .dataframe thead th {\n",
              "        text-align: right;\n",
              "    }\n",
              "</style>\n",
              "<table border=\"1\" class=\"dataframe\">\n",
              "  <thead>\n",
              "    <tr style=\"text-align: right;\">\n",
              "      <th></th>\n",
              "      <th>show_id</th>\n",
              "      <th>type</th>\n",
              "      <th>title</th>\n",
              "      <th>country</th>\n",
              "      <th>release_year</th>\n",
              "      <th>rating</th>\n",
              "      <th>duration</th>\n",
              "      <th>listed_in</th>\n",
              "      <th>description</th>\n",
              "    </tr>\n",
              "  </thead>\n",
              "  <tbody>\n",
              "    <tr>\n",
              "      <th>0</th>\n",
              "      <td>81030762</td>\n",
              "      <td>TV Show</td>\n",
              "      <td>Pioneers: First Women Filmmakers*</td>\n",
              "      <td>United States</td>\n",
              "      <td>1925</td>\n",
              "      <td>TV-PG</td>\n",
              "      <td>1 Season</td>\n",
              "      <td>TV Shows</td>\n",
              "      <td>This collection restores films from women who ...</td>\n",
              "    </tr>\n",
              "    <tr>\n",
              "      <th>1</th>\n",
              "      <td>60027945</td>\n",
              "      <td>Movie</td>\n",
              "      <td>Prelude to War</td>\n",
              "      <td>United States</td>\n",
              "      <td>1942</td>\n",
              "      <td>TV-PG</td>\n",
              "      <td>52 min</td>\n",
              "      <td>Classic Movies, Documentaries</td>\n",
              "      <td>Frank Capra's documentary chronicles the rise ...</td>\n",
              "    </tr>\n",
              "    <tr>\n",
              "      <th>2</th>\n",
              "      <td>60027942</td>\n",
              "      <td>Movie</td>\n",
              "      <td>The Battle of Midway</td>\n",
              "      <td>United States</td>\n",
              "      <td>1942</td>\n",
              "      <td>TV-G</td>\n",
              "      <td>18 min</td>\n",
              "      <td>Classic Movies, Documentaries</td>\n",
              "      <td>Director John Ford captures combat footage of ...</td>\n",
              "    </tr>\n",
              "    <tr>\n",
              "      <th>3</th>\n",
              "      <td>80119186</td>\n",
              "      <td>Movie</td>\n",
              "      <td>Undercover: How to Operate Behind Enemy Lines</td>\n",
              "      <td>United States</td>\n",
              "      <td>1943</td>\n",
              "      <td>TV-PG</td>\n",
              "      <td>61 min</td>\n",
              "      <td>Classic Movies, Documentaries</td>\n",
              "      <td>This World War II-era training film dramatizes...</td>\n",
              "    </tr>\n",
              "    <tr>\n",
              "      <th>4</th>\n",
              "      <td>70013050</td>\n",
              "      <td>Movie</td>\n",
              "      <td>Why We Fight: The Battle of Russia</td>\n",
              "      <td>United States</td>\n",
              "      <td>1943</td>\n",
              "      <td>TV-14</td>\n",
              "      <td>82 min</td>\n",
              "      <td>Documentaries</td>\n",
              "      <td>This installment of Frank Capra's acclaimed do...</td>\n",
              "    </tr>\n",
              "    <tr>\n",
              "      <th>...</th>\n",
              "      <td>...</td>\n",
              "      <td>...</td>\n",
              "      <td>...</td>\n",
              "      <td>...</td>\n",
              "      <td>...</td>\n",
              "      <td>...</td>\n",
              "      <td>...</td>\n",
              "      <td>...</td>\n",
              "      <td>...</td>\n",
              "    </tr>\n",
              "    <tr>\n",
              "      <th>6229</th>\n",
              "      <td>81039393</td>\n",
              "      <td>TV Show</td>\n",
              "      <td>Cheer</td>\n",
              "      <td>United States</td>\n",
              "      <td>2020</td>\n",
              "      <td>TV-MA</td>\n",
              "      <td>1 Season</td>\n",
              "      <td>Docuseries, Reality TV, Teen TV Shows</td>\n",
              "      <td>This gripping docuseries follows the ups and d...</td>\n",
              "    </tr>\n",
              "    <tr>\n",
              "      <th>6230</th>\n",
              "      <td>81214114</td>\n",
              "      <td>Movie</td>\n",
              "      <td>Bulletproof 2</td>\n",
              "      <td>United States</td>\n",
              "      <td>2020</td>\n",
              "      <td>TV-MA</td>\n",
              "      <td>97 min</td>\n",
              "      <td>Action &amp; Adventure, Comedies</td>\n",
              "      <td>A special agent abruptly reunites with a crimi...</td>\n",
              "    </tr>\n",
              "    <tr>\n",
              "      <th>6231</th>\n",
              "      <td>81034946</td>\n",
              "      <td>TV Show</td>\n",
              "      <td>Maradona in Mexico</td>\n",
              "      <td>Argentina, United States, Mexico</td>\n",
              "      <td>2020</td>\n",
              "      <td>TV-MA</td>\n",
              "      <td>1 Season</td>\n",
              "      <td>Docuseries, Spanish-Language TV Shows</td>\n",
              "      <td>In this docuseries, soccer great Diego Maradon...</td>\n",
              "    </tr>\n",
              "    <tr>\n",
              "      <th>6232</th>\n",
              "      <td>81062828</td>\n",
              "      <td>TV Show</td>\n",
              "      <td>Killer Inside: The Mind of Aaron Hernandez</td>\n",
              "      <td>United States</td>\n",
              "      <td>2020</td>\n",
              "      <td>TV-MA</td>\n",
              "      <td>1 Season</td>\n",
              "      <td>Crime TV Shows, Docuseries</td>\n",
              "      <td>Via interviews with friends, players and insid...</td>\n",
              "    </tr>\n",
              "    <tr>\n",
              "      <th>6233</th>\n",
              "      <td>80237329</td>\n",
              "      <td>TV Show</td>\n",
              "      <td>AJ and the Queen</td>\n",
              "      <td>United States</td>\n",
              "      <td>2020</td>\n",
              "      <td>TV-14</td>\n",
              "      <td>1 Season</td>\n",
              "      <td>TV Comedies, TV Dramas</td>\n",
              "      <td>While traveling across the country in a run-do...</td>\n",
              "    </tr>\n",
              "  </tbody>\n",
              "</table>\n",
              "<p>6234 rows × 9 columns</p>\n",
              "</div>"
            ],
            "text/plain": [
              "       show_id  ...                                        description\n",
              "0     81030762  ...  This collection restores films from women who ...\n",
              "1     60027945  ...  Frank Capra's documentary chronicles the rise ...\n",
              "2     60027942  ...  Director John Ford captures combat footage of ...\n",
              "3     80119186  ...  This World War II-era training film dramatizes...\n",
              "4     70013050  ...  This installment of Frank Capra's acclaimed do...\n",
              "...        ...  ...                                                ...\n",
              "6229  81039393  ...  This gripping docuseries follows the ups and d...\n",
              "6230  81214114  ...  A special agent abruptly reunites with a crimi...\n",
              "6231  81034946  ...  In this docuseries, soccer great Diego Maradon...\n",
              "6232  81062828  ...  Via interviews with friends, players and insid...\n",
              "6233  80237329  ...  While traveling across the country in a run-do...\n",
              "\n",
              "[6234 rows x 9 columns]"
            ]
          },
          "metadata": {
            "tags": []
          },
          "execution_count": 32
        }
      ]
    },
    {
      "cell_type": "code",
      "metadata": {
        "id": "OkwN3HKbA9ky",
        "colab_type": "code",
        "colab": {
          "base_uri": "https://localhost:8080/",
          "height": 359
        },
        "outputId": "c112f8eb-774a-493c-e1ad-31d1d04f522e"
      },
      "source": [
        "#melihat 10 data tertua\n",
        "tahun_tua[['title','type','release_year']][:10]"
      ],
      "execution_count": 33,
      "outputs": [
        {
          "output_type": "execute_result",
          "data": {
            "text/html": [
              "<div>\n",
              "<style scoped>\n",
              "    .dataframe tbody tr th:only-of-type {\n",
              "        vertical-align: middle;\n",
              "    }\n",
              "\n",
              "    .dataframe tbody tr th {\n",
              "        vertical-align: top;\n",
              "    }\n",
              "\n",
              "    .dataframe thead th {\n",
              "        text-align: right;\n",
              "    }\n",
              "</style>\n",
              "<table border=\"1\" class=\"dataframe\">\n",
              "  <thead>\n",
              "    <tr style=\"text-align: right;\">\n",
              "      <th></th>\n",
              "      <th>title</th>\n",
              "      <th>type</th>\n",
              "      <th>release_year</th>\n",
              "    </tr>\n",
              "  </thead>\n",
              "  <tbody>\n",
              "    <tr>\n",
              "      <th>0</th>\n",
              "      <td>Pioneers: First Women Filmmakers*</td>\n",
              "      <td>TV Show</td>\n",
              "      <td>1925</td>\n",
              "    </tr>\n",
              "    <tr>\n",
              "      <th>1</th>\n",
              "      <td>Prelude to War</td>\n",
              "      <td>Movie</td>\n",
              "      <td>1942</td>\n",
              "    </tr>\n",
              "    <tr>\n",
              "      <th>2</th>\n",
              "      <td>The Battle of Midway</td>\n",
              "      <td>Movie</td>\n",
              "      <td>1942</td>\n",
              "    </tr>\n",
              "    <tr>\n",
              "      <th>3</th>\n",
              "      <td>Undercover: How to Operate Behind Enemy Lines</td>\n",
              "      <td>Movie</td>\n",
              "      <td>1943</td>\n",
              "    </tr>\n",
              "    <tr>\n",
              "      <th>4</th>\n",
              "      <td>Why We Fight: The Battle of Russia</td>\n",
              "      <td>Movie</td>\n",
              "      <td>1943</td>\n",
              "    </tr>\n",
              "    <tr>\n",
              "      <th>5</th>\n",
              "      <td>WWII: Report from the Aleutians</td>\n",
              "      <td>Movie</td>\n",
              "      <td>1943</td>\n",
              "    </tr>\n",
              "    <tr>\n",
              "      <th>6</th>\n",
              "      <td>The Memphis Belle: A Story of a\\nFlying Fortress</td>\n",
              "      <td>Movie</td>\n",
              "      <td>1944</td>\n",
              "    </tr>\n",
              "    <tr>\n",
              "      <th>7</th>\n",
              "      <td>The Negro Soldier</td>\n",
              "      <td>Movie</td>\n",
              "      <td>1944</td>\n",
              "    </tr>\n",
              "    <tr>\n",
              "      <th>8</th>\n",
              "      <td>Tunisian Victory</td>\n",
              "      <td>Movie</td>\n",
              "      <td>1944</td>\n",
              "    </tr>\n",
              "    <tr>\n",
              "      <th>9</th>\n",
              "      <td>San Pietro</td>\n",
              "      <td>Movie</td>\n",
              "      <td>1945</td>\n",
              "    </tr>\n",
              "  </tbody>\n",
              "</table>\n",
              "</div>"
            ],
            "text/plain": [
              "                                              title     type  release_year\n",
              "0                 Pioneers: First Women Filmmakers*  TV Show          1925\n",
              "1                                    Prelude to War    Movie          1942\n",
              "2                              The Battle of Midway    Movie          1942\n",
              "3     Undercover: How to Operate Behind Enemy Lines    Movie          1943\n",
              "4                Why We Fight: The Battle of Russia    Movie          1943\n",
              "5                   WWII: Report from the Aleutians    Movie          1943\n",
              "6  The Memphis Belle: A Story of a\\nFlying Fortress    Movie          1944\n",
              "7                                 The Negro Soldier    Movie          1944\n",
              "8                                  Tunisian Victory    Movie          1944\n",
              "9                                        San Pietro    Movie          1945"
            ]
          },
          "metadata": {
            "tags": []
          },
          "execution_count": 33
        }
      ]
    },
    {
      "cell_type": "markdown",
      "metadata": {
        "id": "HMmo-G0uysvX",
        "colab_type": "text"
      },
      "source": [
        "## Melihat 10 Movie/TV Show Terbaru dari sebuah dataset netflix:"
      ]
    },
    {
      "cell_type": "code",
      "metadata": {
        "id": "iGN6jif_B3J1",
        "colab_type": "code",
        "colab": {}
      },
      "source": [
        "# membuat variabel dengan nama tahun_baru\n",
        "# dari dataset yang dimiliki, akan di urutkan berdasarkan kolom release_year dan mereset index nya kembali\n",
        "tahun_baru = df.sort_values(\"release_year\", ascending=False, ignore_index=True)"
      ],
      "execution_count": 34,
      "outputs": []
    },
    {
      "cell_type": "code",
      "metadata": {
        "id": "FlM9J_jxzL8J",
        "colab_type": "code",
        "colab": {
          "base_uri": "https://localhost:8080/",
          "height": 589
        },
        "outputId": "19e61bc0-7abf-4302-e7ea-4dc3f013c6bb"
      },
      "source": [
        "tahun_baru"
      ],
      "execution_count": 35,
      "outputs": [
        {
          "output_type": "execute_result",
          "data": {
            "text/html": [
              "<div>\n",
              "<style scoped>\n",
              "    .dataframe tbody tr th:only-of-type {\n",
              "        vertical-align: middle;\n",
              "    }\n",
              "\n",
              "    .dataframe tbody tr th {\n",
              "        vertical-align: top;\n",
              "    }\n",
              "\n",
              "    .dataframe thead th {\n",
              "        text-align: right;\n",
              "    }\n",
              "</style>\n",
              "<table border=\"1\" class=\"dataframe\">\n",
              "  <thead>\n",
              "    <tr style=\"text-align: right;\">\n",
              "      <th></th>\n",
              "      <th>show_id</th>\n",
              "      <th>type</th>\n",
              "      <th>title</th>\n",
              "      <th>country</th>\n",
              "      <th>release_year</th>\n",
              "      <th>rating</th>\n",
              "      <th>duration</th>\n",
              "      <th>listed_in</th>\n",
              "      <th>description</th>\n",
              "    </tr>\n",
              "  </thead>\n",
              "  <tbody>\n",
              "    <tr>\n",
              "      <th>0</th>\n",
              "      <td>81011449</td>\n",
              "      <td>TV Show</td>\n",
              "      <td>Medical Police</td>\n",
              "      <td>United States</td>\n",
              "      <td>2020</td>\n",
              "      <td>TV-MA</td>\n",
              "      <td>1 Season</td>\n",
              "      <td>Crime TV Shows, TV Action &amp; Adventure, TV Come...</td>\n",
              "      <td>Doctors Owen Maestro and Lola Spratt leave Chi...</td>\n",
              "    </tr>\n",
              "    <tr>\n",
              "      <th>1</th>\n",
              "      <td>81006825</td>\n",
              "      <td>Movie</td>\n",
              "      <td>All the Freckles in the World</td>\n",
              "      <td>Mexico</td>\n",
              "      <td>2020</td>\n",
              "      <td>TV-14</td>\n",
              "      <td>90 min</td>\n",
              "      <td>Comedies, International Movies, Romantic Movies</td>\n",
              "      <td>Thirteen-year-old José Miguel is immune to 199...</td>\n",
              "    </tr>\n",
              "    <tr>\n",
              "      <th>2</th>\n",
              "      <td>80997687</td>\n",
              "      <td>TV Show</td>\n",
              "      <td>Dracula</td>\n",
              "      <td>United Kingdom</td>\n",
              "      <td>2020</td>\n",
              "      <td>TV-14</td>\n",
              "      <td>1 Season</td>\n",
              "      <td>British TV Shows, International TV Shows, TV D...</td>\n",
              "      <td>The Count Dracula legend transforms with new t...</td>\n",
              "    </tr>\n",
              "    <tr>\n",
              "      <th>3</th>\n",
              "      <td>81060049</td>\n",
              "      <td>Movie</td>\n",
              "      <td>Leslie Jones: Time Machine</td>\n",
              "      <td>United States</td>\n",
              "      <td>2020</td>\n",
              "      <td>TV-MA</td>\n",
              "      <td>66 min</td>\n",
              "      <td>Stand-Up Comedy</td>\n",
              "      <td>From trying to seduce Prince to battling sleep...</td>\n",
              "    </tr>\n",
              "    <tr>\n",
              "      <th>4</th>\n",
              "      <td>80239306</td>\n",
              "      <td>TV Show</td>\n",
              "      <td>The Healing Powers of Dude</td>\n",
              "      <td>United States</td>\n",
              "      <td>2020</td>\n",
              "      <td>TV-G</td>\n",
              "      <td>1 Season</td>\n",
              "      <td>Kids' TV, TV Comedies, TV Dramas</td>\n",
              "      <td>When an 11-year-old boy with social anxiety di...</td>\n",
              "    </tr>\n",
              "    <tr>\n",
              "      <th>...</th>\n",
              "      <td>...</td>\n",
              "      <td>...</td>\n",
              "      <td>...</td>\n",
              "      <td>...</td>\n",
              "      <td>...</td>\n",
              "      <td>...</td>\n",
              "      <td>...</td>\n",
              "      <td>...</td>\n",
              "      <td>...</td>\n",
              "    </tr>\n",
              "    <tr>\n",
              "      <th>6229</th>\n",
              "      <td>70013050</td>\n",
              "      <td>Movie</td>\n",
              "      <td>Why We Fight: The Battle of Russia</td>\n",
              "      <td>United States</td>\n",
              "      <td>1943</td>\n",
              "      <td>TV-14</td>\n",
              "      <td>82 min</td>\n",
              "      <td>Documentaries</td>\n",
              "      <td>This installment of Frank Capra's acclaimed do...</td>\n",
              "    </tr>\n",
              "    <tr>\n",
              "      <th>6230</th>\n",
              "      <td>80119186</td>\n",
              "      <td>Movie</td>\n",
              "      <td>Undercover: How to Operate Behind Enemy Lines</td>\n",
              "      <td>United States</td>\n",
              "      <td>1943</td>\n",
              "      <td>TV-PG</td>\n",
              "      <td>61 min</td>\n",
              "      <td>Classic Movies, Documentaries</td>\n",
              "      <td>This World War II-era training film dramatizes...</td>\n",
              "    </tr>\n",
              "    <tr>\n",
              "      <th>6231</th>\n",
              "      <td>60027942</td>\n",
              "      <td>Movie</td>\n",
              "      <td>The Battle of Midway</td>\n",
              "      <td>United States</td>\n",
              "      <td>1942</td>\n",
              "      <td>TV-G</td>\n",
              "      <td>18 min</td>\n",
              "      <td>Classic Movies, Documentaries</td>\n",
              "      <td>Director John Ford captures combat footage of ...</td>\n",
              "    </tr>\n",
              "    <tr>\n",
              "      <th>6232</th>\n",
              "      <td>60027945</td>\n",
              "      <td>Movie</td>\n",
              "      <td>Prelude to War</td>\n",
              "      <td>United States</td>\n",
              "      <td>1942</td>\n",
              "      <td>TV-PG</td>\n",
              "      <td>52 min</td>\n",
              "      <td>Classic Movies, Documentaries</td>\n",
              "      <td>Frank Capra's documentary chronicles the rise ...</td>\n",
              "    </tr>\n",
              "    <tr>\n",
              "      <th>6233</th>\n",
              "      <td>81030762</td>\n",
              "      <td>TV Show</td>\n",
              "      <td>Pioneers: First Women Filmmakers*</td>\n",
              "      <td>United States</td>\n",
              "      <td>1925</td>\n",
              "      <td>TV-PG</td>\n",
              "      <td>1 Season</td>\n",
              "      <td>TV Shows</td>\n",
              "      <td>This collection restores films from women who ...</td>\n",
              "    </tr>\n",
              "  </tbody>\n",
              "</table>\n",
              "<p>6234 rows × 9 columns</p>\n",
              "</div>"
            ],
            "text/plain": [
              "       show_id  ...                                        description\n",
              "0     81011449  ...  Doctors Owen Maestro and Lola Spratt leave Chi...\n",
              "1     81006825  ...  Thirteen-year-old José Miguel is immune to 199...\n",
              "2     80997687  ...  The Count Dracula legend transforms with new t...\n",
              "3     81060049  ...  From trying to seduce Prince to battling sleep...\n",
              "4     80239306  ...  When an 11-year-old boy with social anxiety di...\n",
              "...        ...  ...                                                ...\n",
              "6229  70013050  ...  This installment of Frank Capra's acclaimed do...\n",
              "6230  80119186  ...  This World War II-era training film dramatizes...\n",
              "6231  60027942  ...  Director John Ford captures combat footage of ...\n",
              "6232  60027945  ...  Frank Capra's documentary chronicles the rise ...\n",
              "6233  81030762  ...  This collection restores films from women who ...\n",
              "\n",
              "[6234 rows x 9 columns]"
            ]
          },
          "metadata": {
            "tags": []
          },
          "execution_count": 35
        }
      ]
    },
    {
      "cell_type": "code",
      "metadata": {
        "id": "g8z_SVlrCPfZ",
        "colab_type": "code",
        "colab": {
          "base_uri": "https://localhost:8080/",
          "height": 514
        },
        "outputId": "f78848b7-9103-4357-c1b6-5c9a2cc60eab"
      },
      "source": [
        "# melihat 10 data terbaru\n",
        "tahun_baru[['title','type','release_year']][:15]"
      ],
      "execution_count": 36,
      "outputs": [
        {
          "output_type": "execute_result",
          "data": {
            "text/html": [
              "<div>\n",
              "<style scoped>\n",
              "    .dataframe tbody tr th:only-of-type {\n",
              "        vertical-align: middle;\n",
              "    }\n",
              "\n",
              "    .dataframe tbody tr th {\n",
              "        vertical-align: top;\n",
              "    }\n",
              "\n",
              "    .dataframe thead th {\n",
              "        text-align: right;\n",
              "    }\n",
              "</style>\n",
              "<table border=\"1\" class=\"dataframe\">\n",
              "  <thead>\n",
              "    <tr style=\"text-align: right;\">\n",
              "      <th></th>\n",
              "      <th>title</th>\n",
              "      <th>type</th>\n",
              "      <th>release_year</th>\n",
              "    </tr>\n",
              "  </thead>\n",
              "  <tbody>\n",
              "    <tr>\n",
              "      <th>0</th>\n",
              "      <td>Medical Police</td>\n",
              "      <td>TV Show</td>\n",
              "      <td>2020</td>\n",
              "    </tr>\n",
              "    <tr>\n",
              "      <th>1</th>\n",
              "      <td>All the Freckles in the World</td>\n",
              "      <td>Movie</td>\n",
              "      <td>2020</td>\n",
              "    </tr>\n",
              "    <tr>\n",
              "      <th>2</th>\n",
              "      <td>Dracula</td>\n",
              "      <td>TV Show</td>\n",
              "      <td>2020</td>\n",
              "    </tr>\n",
              "    <tr>\n",
              "      <th>3</th>\n",
              "      <td>Leslie Jones: Time Machine</td>\n",
              "      <td>Movie</td>\n",
              "      <td>2020</td>\n",
              "    </tr>\n",
              "    <tr>\n",
              "      <th>4</th>\n",
              "      <td>The Healing Powers of Dude</td>\n",
              "      <td>TV Show</td>\n",
              "      <td>2020</td>\n",
              "    </tr>\n",
              "    <tr>\n",
              "      <th>5</th>\n",
              "      <td>Live Twice, Love Once</td>\n",
              "      <td>Movie</td>\n",
              "      <td>2020</td>\n",
              "    </tr>\n",
              "    <tr>\n",
              "      <th>6</th>\n",
              "      <td>Cheer</td>\n",
              "      <td>TV Show</td>\n",
              "      <td>2020</td>\n",
              "    </tr>\n",
              "    <tr>\n",
              "      <th>7</th>\n",
              "      <td>AJ and the Queen</td>\n",
              "      <td>TV Show</td>\n",
              "      <td>2020</td>\n",
              "    </tr>\n",
              "    <tr>\n",
              "      <th>8</th>\n",
              "      <td>Bulletproof 2</td>\n",
              "      <td>Movie</td>\n",
              "      <td>2020</td>\n",
              "    </tr>\n",
              "    <tr>\n",
              "      <th>9</th>\n",
              "      <td>Jamtara - Sabka Number Ayega</td>\n",
              "      <td>TV Show</td>\n",
              "      <td>2020</td>\n",
              "    </tr>\n",
              "    <tr>\n",
              "      <th>10</th>\n",
              "      <td>Until Dawn</td>\n",
              "      <td>TV Show</td>\n",
              "      <td>2020</td>\n",
              "    </tr>\n",
              "    <tr>\n",
              "      <th>11</th>\n",
              "      <td>Ghost Stories</td>\n",
              "      <td>Movie</td>\n",
              "      <td>2020</td>\n",
              "    </tr>\n",
              "    <tr>\n",
              "      <th>12</th>\n",
              "      <td>Messiah</td>\n",
              "      <td>TV Show</td>\n",
              "      <td>2020</td>\n",
              "    </tr>\n",
              "    <tr>\n",
              "      <th>13</th>\n",
              "      <td>Maradona in Mexico</td>\n",
              "      <td>TV Show</td>\n",
              "      <td>2020</td>\n",
              "    </tr>\n",
              "    <tr>\n",
              "      <th>14</th>\n",
              "      <td>Nisman: The Prosecutor, the President, and the...</td>\n",
              "      <td>TV Show</td>\n",
              "      <td>2020</td>\n",
              "    </tr>\n",
              "  </tbody>\n",
              "</table>\n",
              "</div>"
            ],
            "text/plain": [
              "                                                title     type  release_year\n",
              "0                                      Medical Police  TV Show          2020\n",
              "1                       All the Freckles in the World    Movie          2020\n",
              "2                                             Dracula  TV Show          2020\n",
              "3                          Leslie Jones: Time Machine    Movie          2020\n",
              "4                          The Healing Powers of Dude  TV Show          2020\n",
              "5                               Live Twice, Love Once    Movie          2020\n",
              "6                                               Cheer  TV Show          2020\n",
              "7                                    AJ and the Queen  TV Show          2020\n",
              "8                                       Bulletproof 2    Movie          2020\n",
              "9                        Jamtara - Sabka Number Ayega  TV Show          2020\n",
              "10                                         Until Dawn  TV Show          2020\n",
              "11                                      Ghost Stories    Movie          2020\n",
              "12                                            Messiah  TV Show          2020\n",
              "13                                 Maradona in Mexico  TV Show          2020\n",
              "14  Nisman: The Prosecutor, the President, and the...  TV Show          2020"
            ]
          },
          "metadata": {
            "tags": []
          },
          "execution_count": 36
        }
      ]
    },
    {
      "cell_type": "markdown",
      "metadata": {
        "id": "bIVEChAn1tn4",
        "colab_type": "text"
      },
      "source": [
        "### Melihat banyaknya Movie dan TV-Show Berdasarkan tahun releasenya:"
      ]
    },
    {
      "cell_type": "code",
      "metadata": {
        "id": "C7GaxwwfEJPl",
        "colab_type": "code",
        "colab": {}
      },
      "source": [
        "# melihat 10 data berdasarkan tahun releasenya yang bertype movie\n",
        "tahun_movie = df[df[\"type\"]==\"Movie\"][\"release_year\"].value_counts()[:10]"
      ],
      "execution_count": 64,
      "outputs": []
    },
    {
      "cell_type": "code",
      "metadata": {
        "id": "QIF5-1VU4H_1",
        "colab_type": "code",
        "colab": {
          "base_uri": "https://localhost:8080/",
          "height": 204
        },
        "outputId": "bdce08c1-9a5f-448c-ab8d-23a5cc245e93"
      },
      "source": [
        "tahun_movie"
      ],
      "execution_count": 65,
      "outputs": [
        {
          "output_type": "execute_result",
          "data": {
            "text/plain": [
              "2017    682\n",
              "2018    646\n",
              "2016    593\n",
              "2019    400\n",
              "2015    363\n",
              "2014    213\n",
              "2013    177\n",
              "2012    125\n",
              "2010    111\n",
              "2011    100\n",
              "Name: release_year, dtype: int64"
            ]
          },
          "metadata": {
            "tags": []
          },
          "execution_count": 65
        }
      ]
    },
    {
      "cell_type": "code",
      "metadata": {
        "id": "gG73mI-c3t_r",
        "colab_type": "code",
        "colab": {
          "base_uri": "https://localhost:8080/",
          "height": 422
        },
        "outputId": "cd490091-346e-4979-eb25-a7060b78802e"
      },
      "source": [
        "plt.figure(figsize=(12,6))\n",
        "tahun_movie.plot(kind=\"bar\",color=\"Red\")\n",
        "plt.title(\"10 Film yang tersedia dari netflix berdasarkan tahun release\")"
      ],
      "execution_count": 67,
      "outputs": [
        {
          "output_type": "execute_result",
          "data": {
            "text/plain": [
              "Text(0.5, 1.0, '10 Film yang tersedia dari netflix berdasarkan tahun release')"
            ]
          },
          "metadata": {
            "tags": []
          },
          "execution_count": 67
        },
        {
          "output_type": "display_data",
          "data": {
            "image/png": "[encoded data removed]",
            "text/plain": [
              "<Figure size 864x432 with 1 Axes>"
            ]
          },
          "metadata": {
            "tags": [],
            "needs_background": "light"
          }
        }
      ]
    },
    {
      "cell_type": "code",
      "metadata": {
        "id": "scfQ-1uH5hxY",
        "colab_type": "code",
        "colab": {}
      },
      "source": [
        "# melihat 10 data berdasarkan tahun releasenya yang bertype TV-Show\n",
        "tahun_tvshow = df[df[\"type\"]==\"TV Show\"][\"release_year\"].value_counts()[:10]"
      ],
      "execution_count": 72,
      "outputs": []
    },
    {
      "cell_type": "code",
      "metadata": {
        "id": "xIyGJBrt5w4O",
        "colab_type": "code",
        "colab": {
          "base_uri": "https://localhost:8080/",
          "height": 204
        },
        "outputId": "b8cd56e2-7a38-4750-d7d7-ae9f850bd2c6"
      },
      "source": [
        "tahun_tvshow"
      ],
      "execution_count": 73,
      "outputs": [
        {
          "output_type": "execute_result",
          "data": {
            "text/plain": [
              "2019    443\n",
              "2018    417\n",
              "2017    277\n",
              "2016    237\n",
              "2015    154\n",
              "2014     75\n",
              "2013     60\n",
              "2012     58\n",
              "2010     38\n",
              "2011     36\n",
              "Name: release_year, dtype: int64"
            ]
          },
          "metadata": {
            "tags": []
          },
          "execution_count": 73
        }
      ]
    },
    {
      "cell_type": "code",
      "metadata": {
        "id": "r0kgEsdFE9pc",
        "colab_type": "code",
        "colab": {
          "base_uri": "https://localhost:8080/",
          "height": 422
        },
        "outputId": "5a174e4b-1535-4e44-c2f7-f1f1829654c3"
      },
      "source": [
        "plt.figure(figsize=(12,6))\n",
        "tahun_tvshow.plot(kind=\"bar\",color=\"yellow\")\n",
        "plt.title(\"10 TV Show yang tersedia dari netflix berdasarkan tahun release\")"
      ],
      "execution_count": 75,
      "outputs": [
        {
          "output_type": "execute_result",
          "data": {
            "text/plain": [
              "Text(0.5, 1.0, '10 TV Show yang tersedia dari netflix berdasarkan tahun release')"
            ]
          },
          "metadata": {
            "tags": []
          },
          "execution_count": 75
        },
        {
          "output_type": "display_data",
          "data": {
            "image/png": "[encoded data removed]",
            "text/plain": [
              "<Figure size 864x432 with 1 Axes>"
            ]
          },
          "metadata": {
            "tags": [],
            "needs_background": "light"
          }
        }
      ]
    },
    {
      "cell_type": "markdown",
      "metadata": {
        "id": "92WtvoT460eO",
        "colab_type": "text"
      },
      "source": [
        "## Melihat banyaknya Movie dan TV-Show Berdasarkan genre atau kolom listed_in:"
      ]
    },
    {
      "cell_type": "code",
      "metadata": {
        "id": "z78gLnQdCLLr",
        "colab_type": "code",
        "colab": {}
      },
      "source": [
        "# melihat 10 data berdasarkan genre atau kolom listed_id yang bertype movie\n",
        "genre_movie = df[df[\"type\"]==\"Movie\"][\"listed_in\"].value_counts()[:10]"
      ],
      "execution_count": 80,
      "outputs": []
    },
    {
      "cell_type": "code",
      "metadata": {
        "id": "1IRKy5vOCXo1",
        "colab_type": "code",
        "colab": {
          "base_uri": "https://localhost:8080/",
          "height": 204
        },
        "outputId": "b0a1434f-3816-4342-8fcb-78193f7463f9"
      },
      "source": [
        "genre_movie"
      ],
      "execution_count": 81,
      "outputs": [
        {
          "output_type": "execute_result",
          "data": {
            "text/plain": [
              "Documentaries                                       299\n",
              "Stand-Up Comedy                                     273\n",
              "Dramas, International Movies                        248\n",
              "Dramas, Independent Movies, International Movies    186\n",
              "Comedies, Dramas, International Movies              174\n",
              "Documentaries, International Movies                 150\n",
              "Children & Family Movies, Comedies                  129\n",
              "Children & Family Movies                            120\n",
              "Comedies, International Movies                      120\n",
              "Dramas, International Movies, Romantic Movies       108\n",
              "Name: listed_in, dtype: int64"
            ]
          },
          "metadata": {
            "tags": []
          },
          "execution_count": 81
        }
      ]
    },
    {
      "cell_type": "code",
      "metadata": {
        "id": "nCM3sfj_Cj93",
        "colab_type": "code",
        "colab": {
          "base_uri": "https://localhost:8080/",
          "height": 407
        },
        "outputId": "8b79f7cc-7ecc-4cfd-eb1e-9c5f15be0b9b"
      },
      "source": [
        "plt.figure(figsize=(12,6))\n",
        "genre_movie.plot(kind=\"barh\",color=\"green\")\n",
        "plt.title(\"10 Top Data berdasarkan Genre bertipe Movie\")"
      ],
      "execution_count": 87,
      "outputs": [
        {
          "output_type": "execute_result",
          "data": {
            "text/plain": [
              "Text(0.5, 1.0, '10 Top Data berdasarkan Genre bertipe Movie')"
            ]
          },
          "metadata": {
            "tags": []
          },
          "execution_count": 87
        },
        {
          "output_type": "display_data",
          "data": {
            "image/png": "[encoded data removed]",
            "text/plain": [
              "<Figure size 864x432 with 1 Axes>"
            ]
          },
          "metadata": {
            "tags": [],
            "needs_background": "light"
          }
        }
      ]
    },
    {
      "cell_type": "code",
      "metadata": {
        "id": "2sO8A6P1DGGk",
        "colab_type": "code",
        "colab": {}
      },
      "source": [
        "# melihat 10 data berdasarkan genre atau kolom listed_id yang bertype tv show\n",
        "genre_tvshow = df[df[\"type\"]==\"TV Show\"][\"listed_in\"].value_counts()[:10]"
      ],
      "execution_count": 88,
      "outputs": []
    },
    {
      "cell_type": "code",
      "metadata": {
        "id": "7F6P6fL-DaUi",
        "colab_type": "code",
        "colab": {
          "base_uri": "https://localhost:8080/",
          "height": 204
        },
        "outputId": "fa12719e-0cbe-47d5-a4e8-d0570a454dd8"
      },
      "source": [
        "genre_tvshow"
      ],
      "execution_count": 89,
      "outputs": [
        {
          "output_type": "execute_result",
          "data": {
            "text/plain": [
              "Kids' TV                                                      159\n",
              "Crime TV Shows, International TV Shows, TV Dramas              92\n",
              "International TV Shows, TV Dramas                              92\n",
              "International TV Shows, Romantic TV Shows, TV Dramas           78\n",
              "Kids' TV, TV Comedies                                          75\n",
              "International TV Shows, Romantic TV Shows, TV Comedies         66\n",
              "Docuseries                                                     65\n",
              "Anime Series, International TV Shows                           62\n",
              "International TV Shows, Korean TV Shows, Romantic TV Shows     56\n",
              "TV Comedies                                                    52\n",
              "Name: listed_in, dtype: int64"
            ]
          },
          "metadata": {
            "tags": []
          },
          "execution_count": 89
        }
      ]
    },
    {
      "cell_type": "code",
      "metadata": {
        "id": "BjyU1g7XDeq4",
        "colab_type": "code",
        "colab": {
          "base_uri": "https://localhost:8080/",
          "height": 407
        },
        "outputId": "ee327426-3e24-44ce-f0ef-ba684e84aba0"
      },
      "source": [
        "plt.figure(figsize=(12,6))\n",
        "genre_tvshow.plot(kind=\"barh\",color=\"green\")\n",
        "plt.title(\"10 Top Data berdasarkan Genre bertipe TV-Show\")"
      ],
      "execution_count": 90,
      "outputs": [
        {
          "output_type": "execute_result",
          "data": {
            "text/plain": [
              "Text(0.5, 1.0, '10 Top Data berdasarkan Genre bertipe TV-Show')"
            ]
          },
          "metadata": {
            "tags": []
          },
          "execution_count": 90
        },
        {
          "output_type": "display_data",
          "data": {
            "image/png": "[encoded data removed]",
            "text/plain": [
              "<Figure size 864x432 with 1 Axes>"
            ]
          },
          "metadata": {
            "tags": [],
            "needs_background": "light"
          }
        }
      ]
    },
    {
      "cell_type": "code",
      "metadata": {
        "id": "OhBsTMPHFiDl",
        "colab_type": "code",
        "colab": {}
      },
      "source": [
        ""
      ],
      "execution_count": null,
      "outputs": []
    }
  ]
}
