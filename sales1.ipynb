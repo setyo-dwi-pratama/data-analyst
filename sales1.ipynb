{
  "nbformat": 4,
  "nbformat_minor": 0,
  "metadata": {
    "colab": {
      "name": "latihan1.ipynb",
      "provenance": [],
      "collapsed_sections": [],
      "authorship_tag": "ABX9TyOn8ee242fdivRlpfQlodyM",
      "include_colab_link": true
    },
    "kernelspec": {
      "name": "python3",
      "display_name": "Python 3"
    }
  },
  "cells": [
    {
      "cell_type": "markdown",
      "metadata": {
        "id": "view-in-github",
        "colab_type": "text"
      },
      "source": [
        "<a href=\"https://colab.research.google.com/github/setyo-dwi-pratama/data-analyst/blob/master/sales1.ipynb\" target=\"_parent\"><img src=\"https://colab.research.google.com/assets/colab-badge.svg\" alt=\"Open In Colab\"/></a>"
      ]
    },
    {
      "cell_type": "markdown",
      "metadata": {
        "id": "PaZNNeJXpB4-",
        "colab_type": "text"
      },
      "source": [
        "# **Packages/Library yang dibutuhkan:**"
      ]
    },
    {
      "cell_type": "code",
      "metadata": {
        "id": "NqaTdD5RpUWb",
        "colab_type": "code",
        "colab": {}
      },
      "source": [
        "import numpy as np\n",
        "import pandas as pd"
      ],
      "execution_count": 1,
      "outputs": []
    },
    {
      "cell_type": "markdown",
      "metadata": {
        "id": "o8vybw_vpyVb",
        "colab_type": "text"
      },
      "source": [
        "# **Persiapan Dataset**"
      ]
    },
    {
      "cell_type": "code",
      "metadata": {
        "id": "DEnv545Zpci1",
        "colab_type": "code",
        "colab": {
          "base_uri": "https://localhost:8080/",
          "height": 377
        },
        "outputId": "fe3d6f7f-d3d4-4690-f72e-eecd041fabdf"
      },
      "source": [
        "sales = pd.read_csv(\"sales.csv\") #input file dataset sales\n",
        "sales_copy = sales #antisipasi dataset"
      ],
      "execution_count": 2,
      "outputs": [
        {
          "output_type": "error",
          "ename": "FileNotFoundError",
          "evalue": "ignored",
          "traceback": [
            "\u001b[0;31m---------------------------------------------------------------------------\u001b[0m",
            "\u001b[0;31mFileNotFoundError\u001b[0m                         Traceback (most recent call last)",
            "\u001b[0;32m<ipython-input-2-8a09549dde03>\u001b[0m in \u001b[0;36m<module>\u001b[0;34m()\u001b[0m\n\u001b[0;32m----> 1\u001b[0;31m \u001b[0msales\u001b[0m \u001b[0;34m=\u001b[0m \u001b[0mpd\u001b[0m\u001b[0;34m.\u001b[0m\u001b[0mread_csv\u001b[0m\u001b[0;34m(\u001b[0m\u001b[0;34m\"sales.csv\"\u001b[0m\u001b[0;34m)\u001b[0m \u001b[0;31m#input file dataset sales\u001b[0m\u001b[0;34m\u001b[0m\u001b[0;34m\u001b[0m\u001b[0m\n\u001b[0m\u001b[1;32m      2\u001b[0m \u001b[0msales_copy\u001b[0m \u001b[0;34m=\u001b[0m \u001b[0msales\u001b[0m \u001b[0;31m#antisipasi dataset\u001b[0m\u001b[0;34m\u001b[0m\u001b[0;34m\u001b[0m\u001b[0m\n",
            "\u001b[0;32m/usr/local/lib/python3.6/dist-packages/pandas/io/parsers.py\u001b[0m in \u001b[0;36mparser_f\u001b[0;34m(filepath_or_buffer, sep, delimiter, header, names, index_col, usecols, squeeze, prefix, mangle_dupe_cols, dtype, engine, converters, true_values, false_values, skipinitialspace, skiprows, skipfooter, nrows, na_values, keep_default_na, na_filter, verbose, skip_blank_lines, parse_dates, infer_datetime_format, keep_date_col, date_parser, dayfirst, cache_dates, iterator, chunksize, compression, thousands, decimal, lineterminator, quotechar, quoting, doublequote, escapechar, comment, encoding, dialect, error_bad_lines, warn_bad_lines, delim_whitespace, low_memory, memory_map, float_precision)\u001b[0m\n\u001b[1;32m    674\u001b[0m         )\n\u001b[1;32m    675\u001b[0m \u001b[0;34m\u001b[0m\u001b[0m\n\u001b[0;32m--> 676\u001b[0;31m         \u001b[0;32mreturn\u001b[0m \u001b[0m_read\u001b[0m\u001b[0;34m(\u001b[0m\u001b[0mfilepath_or_buffer\u001b[0m\u001b[0;34m,\u001b[0m \u001b[0mkwds\u001b[0m\u001b[0;34m)\u001b[0m\u001b[0;34m\u001b[0m\u001b[0;34m\u001b[0m\u001b[0m\n\u001b[0m\u001b[1;32m    677\u001b[0m \u001b[0;34m\u001b[0m\u001b[0m\n\u001b[1;32m    678\u001b[0m     \u001b[0mparser_f\u001b[0m\u001b[0;34m.\u001b[0m\u001b[0m__name__\u001b[0m \u001b[0;34m=\u001b[0m \u001b[0mname\u001b[0m\u001b[0;34m\u001b[0m\u001b[0;34m\u001b[0m\u001b[0m\n",
            "\u001b[0;32m/usr/local/lib/python3.6/dist-packages/pandas/io/parsers.py\u001b[0m in \u001b[0;36m_read\u001b[0;34m(filepath_or_buffer, kwds)\u001b[0m\n\u001b[1;32m    446\u001b[0m \u001b[0;34m\u001b[0m\u001b[0m\n\u001b[1;32m    447\u001b[0m     \u001b[0;31m# Create the parser.\u001b[0m\u001b[0;34m\u001b[0m\u001b[0;34m\u001b[0m\u001b[0;34m\u001b[0m\u001b[0m\n\u001b[0;32m--> 448\u001b[0;31m     \u001b[0mparser\u001b[0m \u001b[0;34m=\u001b[0m \u001b[0mTextFileReader\u001b[0m\u001b[0;34m(\u001b[0m\u001b[0mfp_or_buf\u001b[0m\u001b[0;34m,\u001b[0m \u001b[0;34m**\u001b[0m\u001b[0mkwds\u001b[0m\u001b[0;34m)\u001b[0m\u001b[0;34m\u001b[0m\u001b[0;34m\u001b[0m\u001b[0m\n\u001b[0m\u001b[1;32m    449\u001b[0m \u001b[0;34m\u001b[0m\u001b[0m\n\u001b[1;32m    450\u001b[0m     \u001b[0;32mif\u001b[0m \u001b[0mchunksize\u001b[0m \u001b[0;32mor\u001b[0m \u001b[0miterator\u001b[0m\u001b[0;34m:\u001b[0m\u001b[0;34m\u001b[0m\u001b[0;34m\u001b[0m\u001b[0m\n",
            "\u001b[0;32m/usr/local/lib/python3.6/dist-packages/pandas/io/parsers.py\u001b[0m in \u001b[0;36m__init__\u001b[0;34m(self, f, engine, **kwds)\u001b[0m\n\u001b[1;32m    878\u001b[0m             \u001b[0mself\u001b[0m\u001b[0;34m.\u001b[0m\u001b[0moptions\u001b[0m\u001b[0;34m[\u001b[0m\u001b[0;34m\"has_index_names\"\u001b[0m\u001b[0;34m]\u001b[0m \u001b[0;34m=\u001b[0m \u001b[0mkwds\u001b[0m\u001b[0;34m[\u001b[0m\u001b[0;34m\"has_index_names\"\u001b[0m\u001b[0;34m]\u001b[0m\u001b[0;34m\u001b[0m\u001b[0;34m\u001b[0m\u001b[0m\n\u001b[1;32m    879\u001b[0m \u001b[0;34m\u001b[0m\u001b[0m\n\u001b[0;32m--> 880\u001b[0;31m         \u001b[0mself\u001b[0m\u001b[0;34m.\u001b[0m\u001b[0m_make_engine\u001b[0m\u001b[0;34m(\u001b[0m\u001b[0mself\u001b[0m\u001b[0;34m.\u001b[0m\u001b[0mengine\u001b[0m\u001b[0;34m)\u001b[0m\u001b[0;34m\u001b[0m\u001b[0;34m\u001b[0m\u001b[0m\n\u001b[0m\u001b[1;32m    881\u001b[0m \u001b[0;34m\u001b[0m\u001b[0m\n\u001b[1;32m    882\u001b[0m     \u001b[0;32mdef\u001b[0m \u001b[0mclose\u001b[0m\u001b[0;34m(\u001b[0m\u001b[0mself\u001b[0m\u001b[0;34m)\u001b[0m\u001b[0;34m:\u001b[0m\u001b[0;34m\u001b[0m\u001b[0;34m\u001b[0m\u001b[0m\n",
            "\u001b[0;32m/usr/local/lib/python3.6/dist-packages/pandas/io/parsers.py\u001b[0m in \u001b[0;36m_make_engine\u001b[0;34m(self, engine)\u001b[0m\n\u001b[1;32m   1112\u001b[0m     \u001b[0;32mdef\u001b[0m \u001b[0m_make_engine\u001b[0m\u001b[0;34m(\u001b[0m\u001b[0mself\u001b[0m\u001b[0;34m,\u001b[0m \u001b[0mengine\u001b[0m\u001b[0;34m=\u001b[0m\u001b[0;34m\"c\"\u001b[0m\u001b[0;34m)\u001b[0m\u001b[0;34m:\u001b[0m\u001b[0;34m\u001b[0m\u001b[0;34m\u001b[0m\u001b[0m\n\u001b[1;32m   1113\u001b[0m         \u001b[0;32mif\u001b[0m \u001b[0mengine\u001b[0m \u001b[0;34m==\u001b[0m \u001b[0;34m\"c\"\u001b[0m\u001b[0;34m:\u001b[0m\u001b[0;34m\u001b[0m\u001b[0;34m\u001b[0m\u001b[0m\n\u001b[0;32m-> 1114\u001b[0;31m             \u001b[0mself\u001b[0m\u001b[0;34m.\u001b[0m\u001b[0m_engine\u001b[0m \u001b[0;34m=\u001b[0m \u001b[0mCParserWrapper\u001b[0m\u001b[0;34m(\u001b[0m\u001b[0mself\u001b[0m\u001b[0;34m.\u001b[0m\u001b[0mf\u001b[0m\u001b[0;34m,\u001b[0m \u001b[0;34m**\u001b[0m\u001b[0mself\u001b[0m\u001b[0;34m.\u001b[0m\u001b[0moptions\u001b[0m\u001b[0;34m)\u001b[0m\u001b[0;34m\u001b[0m\u001b[0;34m\u001b[0m\u001b[0m\n\u001b[0m\u001b[1;32m   1115\u001b[0m         \u001b[0;32melse\u001b[0m\u001b[0;34m:\u001b[0m\u001b[0;34m\u001b[0m\u001b[0;34m\u001b[0m\u001b[0m\n\u001b[1;32m   1116\u001b[0m             \u001b[0;32mif\u001b[0m \u001b[0mengine\u001b[0m \u001b[0;34m==\u001b[0m \u001b[0;34m\"python\"\u001b[0m\u001b[0;34m:\u001b[0m\u001b[0;34m\u001b[0m\u001b[0;34m\u001b[0m\u001b[0m\n",
            "\u001b[0;32m/usr/local/lib/python3.6/dist-packages/pandas/io/parsers.py\u001b[0m in \u001b[0;36m__init__\u001b[0;34m(self, src, **kwds)\u001b[0m\n\u001b[1;32m   1889\u001b[0m         \u001b[0mkwds\u001b[0m\u001b[0;34m[\u001b[0m\u001b[0;34m\"usecols\"\u001b[0m\u001b[0;34m]\u001b[0m \u001b[0;34m=\u001b[0m \u001b[0mself\u001b[0m\u001b[0;34m.\u001b[0m\u001b[0musecols\u001b[0m\u001b[0;34m\u001b[0m\u001b[0;34m\u001b[0m\u001b[0m\n\u001b[1;32m   1890\u001b[0m \u001b[0;34m\u001b[0m\u001b[0m\n\u001b[0;32m-> 1891\u001b[0;31m         \u001b[0mself\u001b[0m\u001b[0;34m.\u001b[0m\u001b[0m_reader\u001b[0m \u001b[0;34m=\u001b[0m \u001b[0mparsers\u001b[0m\u001b[0;34m.\u001b[0m\u001b[0mTextReader\u001b[0m\u001b[0;34m(\u001b[0m\u001b[0msrc\u001b[0m\u001b[0;34m,\u001b[0m \u001b[0;34m**\u001b[0m\u001b[0mkwds\u001b[0m\u001b[0;34m)\u001b[0m\u001b[0;34m\u001b[0m\u001b[0;34m\u001b[0m\u001b[0m\n\u001b[0m\u001b[1;32m   1892\u001b[0m         \u001b[0mself\u001b[0m\u001b[0;34m.\u001b[0m\u001b[0munnamed_cols\u001b[0m \u001b[0;34m=\u001b[0m \u001b[0mself\u001b[0m\u001b[0;34m.\u001b[0m\u001b[0m_reader\u001b[0m\u001b[0;34m.\u001b[0m\u001b[0munnamed_cols\u001b[0m\u001b[0;34m\u001b[0m\u001b[0;34m\u001b[0m\u001b[0m\n\u001b[1;32m   1893\u001b[0m \u001b[0;34m\u001b[0m\u001b[0m\n",
            "\u001b[0;32mpandas/_libs/parsers.pyx\u001b[0m in \u001b[0;36mpandas._libs.parsers.TextReader.__cinit__\u001b[0;34m()\u001b[0m\n",
            "\u001b[0;32mpandas/_libs/parsers.pyx\u001b[0m in \u001b[0;36mpandas._libs.parsers.TextReader._setup_parser_source\u001b[0;34m()\u001b[0m\n",
            "\u001b[0;31mFileNotFoundError\u001b[0m: [Errno 2] File sales.csv does not exist: 'sales.csv'"
          ]
        }
      ]
    },
    {
      "cell_type": "code",
      "metadata": {
        "id": "U1CCnvidXafV",
        "colab_type": "code",
        "colab": {}
      },
      "source": [
        "sales = pd.DataFrame(sales) #masukkan dataset ke variabel sales dengan mengkonversi ke dataframe"
      ],
      "execution_count": null,
      "outputs": []
    },
    {
      "cell_type": "code",
      "metadata": {
        "id": "LCpLCHllY8SY",
        "colab_type": "code",
        "colab": {}
      },
      "source": [
        "sales.info() #melihat informasi awal dari sebuah data"
      ],
      "execution_count": null,
      "outputs": []
    },
    {
      "cell_type": "code",
      "metadata": {
        "id": "TRQClQ0K5adf",
        "colab_type": "code",
        "colab": {}
      },
      "source": [
        "sales.columns #melihat kolom/series yang ada di dataset"
      ],
      "execution_count": null,
      "outputs": []
    },
    {
      "cell_type": "code",
      "metadata": {
        "id": "5qUAygr8qo05",
        "colab_type": "code",
        "colab": {}
      },
      "source": [
        "sales.head() #melihat data teratas pada dataset"
      ],
      "execution_count": null,
      "outputs": []
    },
    {
      "cell_type": "code",
      "metadata": {
        "id": "XT6SyT6PPCWw",
        "colab_type": "code",
        "colab": {}
      },
      "source": [
        "sales.describe()"
      ],
      "execution_count": null,
      "outputs": []
    },
    {
      "cell_type": "code",
      "metadata": {
        "id": "-qJbh0YJMqyh",
        "colab_type": "code",
        "colab": {}
      },
      "source": [
        "sales['segment'].unique() ##ambilkan saya data unique dari dataframe yang di kolom segment : konsumen, perusahaan, dan kantor"
      ],
      "execution_count": null,
      "outputs": []
    },
    {
      "cell_type": "code",
      "metadata": {
        "id": "iF_MARGYHQER",
        "colab_type": "code",
        "colab": {}
      },
      "source": [
        "sales['category'].unique() ##ambilkan saya data unique dari dataframe yang di kolom category : mebel, peralatan kantor, dan teknologi"
      ],
      "execution_count": null,
      "outputs": []
    },
    {
      "cell_type": "code",
      "metadata": {
        "id": "BOxoa3RiQBn5",
        "colab_type": "code",
        "colab": {}
      },
      "source": [
        "sales['sub_category'].unique() #ambilkan saya data unique dari dataframe yang di kolom sub_category"
      ],
      "execution_count": null,
      "outputs": []
    },
    {
      "cell_type": "code",
      "metadata": {
        "id": "hmw_op0eQc2w",
        "colab_type": "code",
        "colab": {}
      },
      "source": [
        "sales['order_date'] = pd.to_datetime(sales['order_date']) #dari dataframe kolom order_date tolong ubah tipedatanya ke datetime"
      ],
      "execution_count": null,
      "outputs": []
    },
    {
      "cell_type": "code",
      "metadata": {
        "id": "Eo-tTPobz0pF",
        "colab_type": "code",
        "colab": {}
      },
      "source": [
        "df_sales = sales.sort_values(by=['order_date'], ignore_index=True) #dari dataframe diatas akan dimasukkan ke dalam variabel baru dan mereset index "
      ],
      "execution_count": null,
      "outputs": []
    },
    {
      "cell_type": "code",
      "metadata": {
        "id": "YTchLPJN5PMJ",
        "colab_type": "code",
        "colab": {}
      },
      "source": [
        "df_sales"
      ],
      "execution_count": null,
      "outputs": []
    },
    {
      "cell_type": "markdown",
      "metadata": {
        "id": "VBEC7bJWbJ6M",
        "colab_type": "text"
      },
      "source": [
        "#**Data Pertahun**\n",
        "1. Dari dataframe df_sales, kolom yang digunakan adalah order_date, segment, category, sub_category, sales, quantity, dan profit.\n",
        "2. Akan mengakses dataset berdasarkan tahun, yaitu 2014, 2015, 2016, dan 2016"
      ]
    },
    {
      "cell_type": "code",
      "metadata": {
        "id": "utLs6hbxcBiX",
        "colab_type": "code",
        "colab": {}
      },
      "source": [
        "salesbaru = df_sales.loc[:,['order_date','segment','category','sub_category','sales','quantity','profit']] #akan dimasukkan kedalam variabel baru sebagai dasar analisa"
      ],
      "execution_count": null,
      "outputs": []
    },
    {
      "cell_type": "code",
      "metadata": {
        "id": "pkl9QtcGdER1",
        "colab_type": "code",
        "colab": {}
      },
      "source": [
        "salesbaru.head()"
      ],
      "execution_count": null,
      "outputs": []
    },
    {
      "cell_type": "code",
      "metadata": {
        "id": "qDlGh9SIekTJ",
        "colab_type": "code",
        "colab": {}
      },
      "source": [
        "sales2014 = salesbaru.loc[salesbaru['order_date'] < '2015-01-01'] #variabel sales2014 : ambilkan data dari dataframe berdasarkan kolom order_date yang tahunnya < 2015-01-01"
      ],
      "execution_count": null,
      "outputs": []
    },
    {
      "cell_type": "code",
      "metadata": {
        "id": "mIqn2Noyl3nM",
        "colab_type": "code",
        "colab": {}
      },
      "source": [
        "sales2014 = sales2014.sort_values(by=['order_date'], ignore_index=True) #mereset index "
      ],
      "execution_count": null,
      "outputs": []
    },
    {
      "cell_type": "code",
      "metadata": {
        "id": "PkZSdCUyi9a_",
        "colab_type": "code",
        "colab": {}
      },
      "source": [
        "sales2015 = salesbaru.loc[(salesbaru['order_date'] < '2016-01-01') & (salesbaru['order_date'] >= '2015-01-01') ] #mengambil data berdasar tahun 2015"
      ],
      "execution_count": null,
      "outputs": []
    },
    {
      "cell_type": "code",
      "metadata": {
        "id": "X1WJercIjRBO",
        "colab_type": "code",
        "colab": {}
      },
      "source": [
        "sales2015 = sales2015.sort_values(by=['order_date'], ignore_index=True) #mereset index"
      ],
      "execution_count": null,
      "outputs": []
    },
    {
      "cell_type": "code",
      "metadata": {
        "id": "VWyl4XcSjfjL",
        "colab_type": "code",
        "colab": {}
      },
      "source": [
        "sales2016 = salesbaru.loc[(salesbaru['order_date'] < '2017-01-01') & (salesbaru['order_date'] >= '2016-01-01') ] #mengambil data berdasar tahun 2016"
      ],
      "execution_count": null,
      "outputs": []
    },
    {
      "cell_type": "code",
      "metadata": {
        "id": "bLrQ4YigbEM_",
        "colab_type": "code",
        "colab": {}
      },
      "source": [
        "sales2016 = sales2016.sort_values(by=['order_date'], ignore_index=True) #mereset index"
      ],
      "execution_count": null,
      "outputs": []
    },
    {
      "cell_type": "code",
      "metadata": {
        "id": "4J01QrWYjyTr",
        "colab_type": "code",
        "colab": {}
      },
      "source": [
        "sales2017 = salesbaru.loc[(salesbaru['order_date'] >= '2017-01-01')] #mengambil data berdasar tahun 2017"
      ],
      "execution_count": null,
      "outputs": []
    },
    {
      "cell_type": "code",
      "metadata": {
        "id": "5qvWdReNkhnd",
        "colab_type": "code",
        "colab": {}
      },
      "source": [
        "sales2017 = sales2017.sort_values(by=['order_date'], ignore_index=True) #mereset index"
      ],
      "execution_count": null,
      "outputs": []
    },
    {
      "cell_type": "markdown",
      "metadata": {
        "id": "z-yvZ62FoODA",
        "colab_type": "text"
      },
      "source": [
        "## **Proses dataset pertahun**"
      ]
    },
    {
      "cell_type": "code",
      "metadata": {
        "id": "lAudBftEogbz",
        "colab_type": "code",
        "colab": {}
      },
      "source": [
        "#hasil untuk dataset 2014\n",
        "#sum(), count(), describe(), info()\n",
        "\n",
        "print(sales2014['sales'].sum()) #ambilkan jumlah dari kolom sales di tahun 2014\n",
        "print(sales2014['quantity'].sum()) #ambilkan jumlah dari kolom quantity di tahun 2014\n",
        "print(sales2014['profit'].sum()) #ambilkan jumlah dari kolom profit di tahun 2014"
      ],
      "execution_count": null,
      "outputs": []
    },
    {
      "cell_type": "code",
      "metadata": {
        "id": "T5I5zt2aq0qS",
        "colab_type": "code",
        "colab": {}
      },
      "source": [
        "print(sales2014.count())"
      ],
      "execution_count": null,
      "outputs": []
    },
    {
      "cell_type": "code",
      "metadata": {
        "id": "KuuwIW7iqh_b",
        "colab_type": "code",
        "colab": {}
      },
      "source": [
        "#fungsi diatas juga sebenarnya bisa dilakukan dengan cara berikut\n",
        "#salesbaru['quantity'].loc[salesbaru['order_date'] < '2015-01-01'].sum()"
      ],
      "execution_count": null,
      "outputs": []
    },
    {
      "cell_type": "code",
      "metadata": {
        "id": "czInrMpo1wOJ",
        "colab_type": "code",
        "colab": {}
      },
      "source": [
        "#sales2014.loc[sales2014['segment'] == 'Consumer'].count()\n",
        "#sales2014.loc[sales2014['segment'] == 'Corporate'].count()\n",
        "#sales2014.loc[sales2014['segment'] == 'Home Office'].count() : ketika ini tidak jalan, coba tambahkan '`Home Office`'\n",
        "sales2014.groupby('segment')['quantity'].count()"
      ],
      "execution_count": null,
      "outputs": []
    },
    {
      "cell_type": "code",
      "metadata": {
        "id": "bE9iYttGrtNV",
        "colab_type": "code",
        "colab": {}
      },
      "source": [
        "sales2014.groupby('segment')['quantity'].sum()"
      ],
      "execution_count": null,
      "outputs": []
    },
    {
      "cell_type": "code",
      "metadata": {
        "id": "xHQtjppHr3Er",
        "colab_type": "code",
        "colab": {}
      },
      "source": [
        "sales2014.groupby('category')['quantity'].sum()"
      ],
      "execution_count": null,
      "outputs": []
    },
    {
      "cell_type": "code",
      "metadata": {
        "id": "aHO5KnMOsA9H",
        "colab_type": "code",
        "colab": {}
      },
      "source": [
        "sales2014.groupby('sub_category')['quantity'].sum()"
      ],
      "execution_count": null,
      "outputs": []
    },
    {
      "cell_type": "code",
      "metadata": {
        "id": "C_Ms04Z4saph",
        "colab_type": "code",
        "colab": {}
      },
      "source": [
        "sales2015.groupby('sub_category')['quantity'].sum()"
      ],
      "execution_count": null,
      "outputs": []
    },
    {
      "cell_type": "code",
      "metadata": {
        "id": "SVk_zsH9slLy",
        "colab_type": "code",
        "colab": {}
      },
      "source": [
        "sales2016.groupby('sub_category')['quantity'].sum()"
      ],
      "execution_count": null,
      "outputs": []
    },
    {
      "cell_type": "code",
      "metadata": {
        "id": "Th2oDOiTsymh",
        "colab_type": "code",
        "colab": {}
      },
      "source": [
        "sales2017.groupby('sub_category')['quantity'].sum()"
      ],
      "execution_count": null,
      "outputs": []
    },
    {
      "cell_type": "code",
      "metadata": {
        "id": "iBzZkUECs95l",
        "colab_type": "code",
        "colab": {}
      },
      "source": [
        "salesbaru.groupby('sub_category')['quantity'].sum()"
      ],
      "execution_count": null,
      "outputs": []
    },
    {
      "cell_type": "code",
      "metadata": {
        "id": "sayUF6tvtkvE",
        "colab_type": "code",
        "colab": {}
      },
      "source": [
        "sales2014.groupby('segment')['quantity'].sum()"
      ],
      "execution_count": null,
      "outputs": []
    },
    {
      "cell_type": "code",
      "metadata": {
        "id": "8VoL-FXYts4d",
        "colab_type": "code",
        "colab": {}
      },
      "source": [
        "sales2015.groupby('category')['quantity'].sum()"
      ],
      "execution_count": null,
      "outputs": []
    },
    {
      "cell_type": "code",
      "metadata": {
        "id": "4BUpobp5ttvc",
        "colab_type": "code",
        "colab": {}
      },
      "source": [
        "sales2016.groupby('category')['quantity'].sum()"
      ],
      "execution_count": null,
      "outputs": []
    },
    {
      "cell_type": "code",
      "metadata": {
        "id": "QkFH7DdjtudH",
        "colab_type": "code",
        "colab": {}
      },
      "source": [
        "sales2017.groupby('category')['quantity'].sum()"
      ],
      "execution_count": null,
      "outputs": []
    },
    {
      "cell_type": "code",
      "metadata": {
        "id": "8ucVT0EgtvQ0",
        "colab_type": "code",
        "colab": {}
      },
      "source": [
        "salesbaru.groupby('category')['quantity'].sum()"
      ],
      "execution_count": null,
      "outputs": []
    },
    {
      "cell_type": "markdown",
      "metadata": {
        "id": "1b8TWS5I8yGD",
        "colab_type": "text"
      },
      "source": [
        "# **MARI DIOLAH :**\n",
        "# A. kita sekarang sudah mempunyai 5 datasete : sales2014, sales2015, sales2016, sales2017 dan salesbaru(data keseluruhan)\n",
        "# B. kita akan membandingkan dari ke lima dataset "
      ]
    },
    {
      "cell_type": "code",
      "metadata": {
        "id": "NnDMERe-2OsZ",
        "colab_type": "code",
        "colab": {}
      },
      "source": [
        "#sales2014\n",
        "#sales2015\n",
        "#sales2016\n",
        "#sales2017\n",
        "salesbaru"
      ],
      "execution_count": null,
      "outputs": []
    },
    {
      "cell_type": "markdown",
      "metadata": {
        "id": "bnQ1qdkh5VJs",
        "colab_type": "text"
      },
      "source": [
        "# 1. membandingkan banyaknya data dari semua dataset, berdasarkan kolom segment dengan sales"
      ]
    },
    {
      "cell_type": "code",
      "metadata": {
        "id": "6NOusXHg6Nio",
        "colab_type": "code",
        "colab": {}
      },
      "source": [
        "#sales2014.groupby('segment')['sales'].count()\n",
        "#sales2015.groupby('segment')['sales'].count()\n",
        "#sales2016.groupby('segment')['sales'].count()\n",
        "#sales2017.groupby('segment')['sales'].count()\n",
        "salesbaru.groupby('segment')['sales'].count()"
      ],
      "execution_count": null,
      "outputs": []
    },
    {
      "cell_type": "markdown",
      "metadata": {
        "id": "6_Od_gqx6yhE",
        "colab_type": "text"
      },
      "source": [
        "## 2. membandingkan banyaknya data dari semua dataset, berdasarkan kolom segment dengan quantity"
      ]
    },
    {
      "cell_type": "code",
      "metadata": {
        "id": "-Zw4zZur7DT7",
        "colab_type": "code",
        "colab": {}
      },
      "source": [
        "#sales2014.groupby('segment')['quantity'].count()\n",
        "#sales2015.groupby('segment')['quantity'].count()\n",
        "#sales2016.groupby('segment')['quantity'].count()\n",
        "#sales2017.groupby('segment')['quantity'].count()\n",
        "salesbaru.groupby('segment')['quantity'].count()"
      ],
      "execution_count": null,
      "outputs": []
    },
    {
      "cell_type": "markdown",
      "metadata": {
        "id": "yfjzvOgY72vG",
        "colab_type": "text"
      },
      "source": [
        "## KESIMPULAN:\n",
        "Dari No 1 dan 2, kita dapat menyimpulkan bahwa untuk melihat data berdasarkan kolom segment dengan semua kolom lainnya, akan mendapatkan hasil yang sama seperti No 1 dan 2"
      ]
    },
    {
      "cell_type": "markdown",
      "metadata": {
        "id": "o7SaW0QO8WLR",
        "colab_type": "text"
      },
      "source": [
        "# 3. membandingkan banyaknya data dari semua dataset, berdasarkan kolom category dengan sales"
      ]
    },
    {
      "cell_type": "code",
      "metadata": {
        "id": "CDiJy0L18iWD",
        "colab_type": "code",
        "colab": {}
      },
      "source": [
        "#sales2014.groupby('category')['sales'].count()\n",
        "#sales2015.groupby('category')['sales'].count()\n",
        "#sales2016.groupby('category')['sales'].count()\n",
        "#sales2017.groupby('category')['sales'].count()\n",
        "salesbaru.groupby('category')['sales'].count()"
      ],
      "execution_count": null,
      "outputs": []
    },
    {
      "cell_type": "markdown",
      "metadata": {
        "id": "O64l9bkx9TKf",
        "colab_type": "text"
      },
      "source": [
        "# KESIMPULAN:\n",
        "Dari No 3, kita dapat menyimpulkan bahwa untuk melihat data berdasarkan kolom category dengan semua kolom lainnya, akan mendapatkan hasil yang sama seperti No 3"
      ]
    },
    {
      "cell_type": "markdown",
      "metadata": {
        "id": "oUMrvhp99qjT",
        "colab_type": "text"
      },
      "source": [
        "#4. membandingkan banyaknya data dari semua dataset, berdasarkan kolom sub_category dengan sales"
      ]
    },
    {
      "cell_type": "code",
      "metadata": {
        "id": "Cp6g7tQI9z6V",
        "colab_type": "code",
        "colab": {}
      },
      "source": [
        "#sales2014.groupby('sub_category')['sales'].count()\n",
        "#sales2015.groupby('sub_category')['sales'].count()\n",
        "#sales2016.groupby('sub_category')['sales'].count()\n",
        "#sales2017.groupby('sub_category')['sales'].count()\n",
        "salesbaru.groupby('sub_category')['sales'].count()"
      ],
      "execution_count": null,
      "outputs": []
    },
    {
      "cell_type": "markdown",
      "metadata": {
        "id": "TwgWEToM-PRP",
        "colab_type": "text"
      },
      "source": [
        "# KESIMPULAN:\n",
        "Dari No 5, kita dapat menyimpulkan bahwa untuk melihat data berdasarkan kolom sub_category dengan semua kolom lainnya, akan mendapatkan hasil yang sama seperti No 4"
      ]
    },
    {
      "cell_type": "markdown",
      "metadata": {
        "id": "L0aS5U16-yZw",
        "colab_type": "text"
      },
      "source": [
        "# 5. membandingkan jumlah (sum) data dari semua dataset, berdasarkan kolom segment dengan sales"
      ]
    },
    {
      "cell_type": "code",
      "metadata": {
        "id": "wFyEY0r7_CRf",
        "colab_type": "code",
        "colab": {}
      },
      "source": [
        "#sales2014.groupby('segment')['sales'].sum()\n",
        "#sales2015.groupby('segment')['sales'].sum()\n",
        "#sales2016.groupby('segment')['sales'].sum()\n",
        "#sales2017.groupby('segment')['sales'].sum()\n",
        "salesbaru.groupby('segment')['sales'].sum()"
      ],
      "execution_count": null,
      "outputs": []
    },
    {
      "cell_type": "markdown",
      "metadata": {
        "id": "aW-u4jLn_z8O",
        "colab_type": "text"
      },
      "source": [
        "# 6. membandingkan jumlah (sum) data dari semua dataset, berdasarkan kolom segment dengan quantity"
      ]
    },
    {
      "cell_type": "code",
      "metadata": {
        "id": "jhU8sKhe_7XG",
        "colab_type": "code",
        "colab": {}
      },
      "source": [
        "#sales2014.groupby('segment')['quantity'].sum()\n",
        "#sales2015.groupby('segment')['quantity'].sum()\n",
        "#sales2016.groupby('segment')['quantity'].sum()\n",
        "#sales2017.groupby('segment')['quantity'].sum()\n",
        "salesbaru.groupby('segment')['quantity'].sum()"
      ],
      "execution_count": null,
      "outputs": []
    },
    {
      "cell_type": "markdown",
      "metadata": {
        "id": "4BA6CDNVAQCJ",
        "colab_type": "text"
      },
      "source": [
        "# 7. membandingkan jumlah (sum) data dari semua dataset, berdasarkan kolom segment dengan profit"
      ]
    },
    {
      "cell_type": "code",
      "metadata": {
        "id": "kVTAd5HJAXJ-",
        "colab_type": "code",
        "colab": {}
      },
      "source": [
        "#sales2014.groupby('segment')['profit'].sum()\n",
        "#sales2015.groupby('segment')['profit'].sum()\n",
        "#sales2016.groupby('segment')['profit'].sum()\n",
        "#sales2017.groupby('segment')['profit'].sum()\n",
        "salesbaru.groupby('segment')['profit'].sum()"
      ],
      "execution_count": null,
      "outputs": []
    },
    {
      "cell_type": "markdown",
      "metadata": {
        "id": "jnWbDRyIA0DC",
        "colab_type": "text"
      },
      "source": [
        "# 8. membandingkan jumlah (sum) data dari semua dataset, berdasarkan kolom category dengan sales"
      ]
    },
    {
      "cell_type": "code",
      "metadata": {
        "id": "BAhaAfhUA7ev",
        "colab_type": "code",
        "colab": {}
      },
      "source": [
        "#sales2014.groupby('category')['sales'].sum()\n",
        "#sales2015.groupby('category')['sales'].sum()\n",
        "#sales2016.groupby('category')['sales'].sum()\n",
        "#sales2017.groupby('category')['sales'].sum()\n",
        "salesbaru.groupby('category')['sales'].sum()"
      ],
      "execution_count": null,
      "outputs": []
    },
    {
      "cell_type": "markdown",
      "metadata": {
        "id": "MA6tusZ8BjI_",
        "colab_type": "text"
      },
      "source": [
        "# 9. membandingkan jumlah (sum) data dari semua dataset, berdasarkan kolom category dengan quantity"
      ]
    },
    {
      "cell_type": "code",
      "metadata": {
        "id": "B8RIczY2BwBl",
        "colab_type": "code",
        "colab": {}
      },
      "source": [
        "#sales2014.groupby('category')['quantity'].sum()\n",
        "#sales2015.groupby('category')['quantity'].sum()\n",
        "#sales2016.groupby('category')['quantity'].sum()\n",
        "#sales2017.groupby('category')['quantity'].sum()\n",
        "salesbaru.groupby('category')['quantity'].sum()"
      ],
      "execution_count": null,
      "outputs": []
    },
    {
      "cell_type": "markdown",
      "metadata": {
        "id": "g3qnPz7FCCIW",
        "colab_type": "text"
      },
      "source": [
        "# 10. membandingkan jumlah (sum) data dari semua dataset, berdasarkan kolom category dengan profit"
      ]
    },
    {
      "cell_type": "code",
      "metadata": {
        "id": "VxlZe3C5CI6H",
        "colab_type": "code",
        "colab": {}
      },
      "source": [
        "#sales2014.groupby('category')['profit'].sum()\n",
        "#sales2015.groupby('category')['profit'].sum()\n",
        "#sales2016.groupby('category')['profit'].sum()\n",
        "#sales2017.groupby('category')['profit'].sum()\n",
        "salesbaru.groupby('category')['profit'].sum()"
      ],
      "execution_count": null,
      "outputs": []
    },
    {
      "cell_type": "markdown",
      "metadata": {
        "id": "cCMok0cOCc4v",
        "colab_type": "text"
      },
      "source": [
        "# 11. membandingkan jumlah (sum) data dari semua dataset, berdasarkan kolom sub_category dengan sales"
      ]
    },
    {
      "cell_type": "code",
      "metadata": {
        "id": "if3KK2z9CkaJ",
        "colab_type": "code",
        "colab": {}
      },
      "source": [
        "#sales2014.groupby('sub_category')['sales'].sum()\n",
        "#sales2015.groupby('sub_category')['sales'].sum()\n",
        "#sales2016.groupby('sub_category')['sales'].sum()\n",
        "#sales2017.groupby('sub_category')['sales'].sum()\n",
        "salesbaru.groupby('sub_category')['sales'].sum()"
      ],
      "execution_count": null,
      "outputs": []
    },
    {
      "cell_type": "markdown",
      "metadata": {
        "id": "hVLP6XD1C2Um",
        "colab_type": "text"
      },
      "source": [
        "# 12. membandingkan jumlah (sum) data dari semua dataset, berdasarkan kolom sub_category dengan quantity"
      ]
    },
    {
      "cell_type": "code",
      "metadata": {
        "id": "SkpFpeuPC9L4",
        "colab_type": "code",
        "colab": {}
      },
      "source": [
        "#sales2014.groupby('sub_category')['quantity'].sum()\n",
        "#sales2015.groupby('sub_category')['quantity'].sum()\n",
        "#sales2016.groupby('sub_category')['quantity'].sum()\n",
        "#sales2017.groupby('sub_category')['quantity'].sum()\n",
        "salesbaru.groupby('sub_category')['quantity'].sum()"
      ],
      "execution_count": null,
      "outputs": []
    },
    {
      "cell_type": "markdown",
      "metadata": {
        "id": "03OEZeCODOx2",
        "colab_type": "text"
      },
      "source": [
        "# 13. membandingkan jumlah (sum) data dari semua dataset, berdasarkan kolom sub_category dengan profit"
      ]
    },
    {
      "cell_type": "code",
      "metadata": {
        "id": "wlWqJC_iDURC",
        "colab_type": "code",
        "colab": {}
      },
      "source": [
        "#sales2014.groupby('sub_category')['profit'].sum()\n",
        "#sales2015.groupby('sub_category')['profit'].sum()\n",
        "#sales2016.groupby('sub_category')['profit'].sum()\n",
        "#sales2017.groupby('sub_category')['profit'].sum()\n",
        "salesbaru.groupby('sub_category')['profit'].sum()"
      ],
      "execution_count": null,
      "outputs": []
    },
    {
      "cell_type": "markdown",
      "metadata": {
        "id": "nFhxarN8ENd0",
        "colab_type": "text"
      },
      "source": [
        "# 14. dari No 1 - 13, mempunyai jalan alternatif, yaitu dengan menggunakan fungsi agg\n",
        "\n",
        "example : berdasarkan kolom segment dengan sales\n",
        "\n",
        "sedangkan untuk :\n",
        "\n",
        "a. kolom segment dengan quantity\n",
        "\n",
        "b. kolom segment dengan profit\n",
        "\n",
        "c. kolom category dengan sales\n",
        "\n",
        "d. kolom category dengan quantity\n",
        "\n",
        "e. kolom category dengan profit\n",
        "\n",
        "f. kolom sub_category dengan sales\n",
        "\n",
        "g. kolom sub_category dengan quantity\n",
        "\n",
        "h. kolom sub_category dengan profit\n",
        "\n",
        "dicoba-coba sendiri"
      ]
    },
    {
      "cell_type": "code",
      "metadata": {
        "id": "ee3RXu0m7b4a",
        "colab_type": "code",
        "colab": {}
      },
      "source": [
        "#sales2014.groupby('segment')['sales'].agg(['count','sum'])\n",
        "#sales2015.groupby('segment')['sales'].agg(['count','sum'])\n",
        "#sales2016.groupby('segment')['sales'].agg(['count','sum'])\n",
        "#sales2017.groupby('segment')['sales'].agg(['count','sum'])\n",
        "salesbaru.groupby('segment')['sales'].agg(['count','sum'])"
      ],
      "execution_count": null,
      "outputs": []
    },
    {
      "cell_type": "markdown",
      "metadata": {
        "id": "ZSRON1SdGTVg",
        "colab_type": "text"
      },
      "source": [
        "# 15. membandingkan semua dataset dengan fungsi describe()\n",
        "\n",
        "example : \n",
        "\n",
        "a. berdasarkan kolom segment dengan sales\n",
        "\n",
        "b. kolom segment dengan quantity\n",
        "\n",
        "c. kolom segment dengan quantity\n",
        "\n",
        "sedangkan untuk :\n",
        "\n",
        "a. kolom category dengan sales\n",
        "\n",
        "b. kolom category dengan quantity\n",
        "\n",
        "c. kolom category dengan profit\n",
        "\n",
        "d. kolom sub_category dengan sales\n",
        "\n",
        "e. kolom sub_category dengan quantity\n",
        "\n",
        "f. kolom sub_category dengan profit\n",
        "\n",
        "dicoba-coba sendiri\n"
      ]
    },
    {
      "cell_type": "code",
      "metadata": {
        "id": "WmV-4Wrx99yc",
        "colab_type": "code",
        "colab": {}
      },
      "source": [
        "#sales2014.groupby('segment')['sales'].describe()\n",
        "#sales2015.groupby('segment')['sales'].describe()\n",
        "#sales2016.groupby('segment')['sales'].describe()\n",
        "#sales2017.groupby('segment')['sales'].describe()\n",
        "salesbaru.groupby('segment')['sales'].describe()"
      ],
      "execution_count": null,
      "outputs": []
    },
    {
      "cell_type": "code",
      "metadata": {
        "id": "eA-Rv1PgyTQQ",
        "colab_type": "code",
        "colab": {}
      },
      "source": [
        "#sales2014.groupby('segment')['profit'].describe()\n",
        "#sales2015.groupby('segment')['profit'].describe()\n",
        "#sales2016.groupby('segment')['profit'].describe()\n",
        "#sales2016.groupby('segment')['profit'].describe()\n",
        "salesbaru.groupby('segment')['profit'].describe()"
      ],
      "execution_count": null,
      "outputs": []
    },
    {
      "cell_type": "code",
      "metadata": {
        "id": "Q7QMKB-jy0sK",
        "colab_type": "code",
        "colab": {}
      },
      "source": [
        "#sales2014.groupby('segment')['quantity'].describe()\n",
        "#sales2015.groupby('segment')['quantity'].describe()\n",
        "#sales2016.groupby('segment')['quantity'].describe()\n",
        "#sales2017.groupby('segment')['quantity'].describe()\n",
        "salesbaru.groupby('segment')['quantity'].describe()"
      ],
      "execution_count": null,
      "outputs": []
    },
    {
      "cell_type": "markdown",
      "metadata": {
        "id": "q81uOxlzKKzv",
        "colab_type": "text"
      },
      "source": [
        "# 16. membandingkan dari semua dataset, untuk melihat suatu produk yang banyak diminati\n",
        "\n",
        "a. berdasarkan kolom segment dengan category\n",
        "\n",
        "b. berdasarkan kolom segment dengan sub_category\n",
        "\n",
        "c. berdasarkan kolom category dengan sub_category\n"
      ]
    },
    {
      "cell_type": "code",
      "metadata": {
        "id": "7vKDV_-WjupW",
        "colab_type": "code",
        "colab": {}
      },
      "source": [
        "sales2014.groupby('segment')['category'].describe()"
      ],
      "execution_count": null,
      "outputs": []
    },
    {
      "cell_type": "code",
      "metadata": {
        "id": "iQMQ-gK_jvMW",
        "colab_type": "code",
        "colab": {}
      },
      "source": [
        "sales2015.groupby('segment')['category'].describe()"
      ],
      "execution_count": null,
      "outputs": []
    },
    {
      "cell_type": "code",
      "metadata": {
        "id": "o6MZUMQJjveR",
        "colab_type": "code",
        "colab": {}
      },
      "source": [
        "sales2016.groupby('segment')['category'].describe()"
      ],
      "execution_count": null,
      "outputs": []
    },
    {
      "cell_type": "code",
      "metadata": {
        "id": "hPHfWEt5jv6F",
        "colab_type": "code",
        "colab": {}
      },
      "source": [
        "sales2017.groupby('segment')['category'].describe()"
      ],
      "execution_count": null,
      "outputs": []
    },
    {
      "cell_type": "code",
      "metadata": {
        "id": "7iRLFFfDKu0t",
        "colab_type": "code",
        "colab": {}
      },
      "source": [
        "#sales2014.groupby('segment')['category'].describe()\n",
        "#sales2015.groupby('segment')['category'].describe()\n",
        "#sales2016.groupby('segment')['category'].describe()\n",
        "#sales2017.groupby('segment')['category'].describe()\n",
        "salesbaru.groupby('segment')['category'].describe()"
      ],
      "execution_count": null,
      "outputs": []
    },
    {
      "cell_type": "code",
      "metadata": {
        "id": "2BEvtahqzdHD",
        "colab_type": "code",
        "colab": {}
      },
      "source": [
        "#sales2014.groupby('segment')['sub_category'].describe()\n",
        "#sales2015.groupby('segment')['sub_category'].describe()\n",
        "#sales2016.groupby('segment')['sub_category'].describe()\n",
        "#sales2017.groupby('segment')['sub_category'].describe()\n",
        "salesbaru.groupby('segment')['sub_category'].describe()"
      ],
      "execution_count": null,
      "outputs": []
    },
    {
      "cell_type": "code",
      "metadata": {
        "id": "GcpKmPcdIDzS",
        "colab_type": "code",
        "colab": {}
      },
      "source": [
        "#sales2104.groupby('category')['sub_category'].describe()\n",
        "#sales2015.groupby('category')['sub_category'].describe()\n",
        "#sales2016.groupby('category')['sub_category'].describe()\n",
        "#sales2017.groupby('category')['sub_category'].describe()\n",
        "salesbaru.groupby('category')['sub_category'].describe()"
      ],
      "execution_count": null,
      "outputs": []
    },
    {
      "cell_type": "markdown",
      "metadata": {
        "id": "xv-rsuZSLpTQ",
        "colab_type": "text"
      },
      "source": [
        "## 17. dari No 16, disini kita akan melihat untuk kondisi top dibandingan dengan category atau barang apa?"
      ]
    },
    {
      "cell_type": "code",
      "metadata": {
        "id": "85CbEoQ1I-jC",
        "colab_type": "code",
        "colab": {}
      },
      "source": [
        "salesbaru.groupby('segment')['category'].unique()"
      ],
      "execution_count": null,
      "outputs": []
    },
    {
      "cell_type": "code",
      "metadata": {
        "id": "DQ23YuMbJWDC",
        "colab_type": "code",
        "colab": {}
      },
      "source": [
        "salesbaru.groupby('segment')['sub_category'].unique()"
      ],
      "execution_count": null,
      "outputs": []
    },
    {
      "cell_type": "code",
      "metadata": {
        "id": "bxoLCJEJJtsJ",
        "colab_type": "code",
        "colab": {}
      },
      "source": [
        "salesbaru.groupby('category')['sub_category'].unique()"
      ],
      "execution_count": null,
      "outputs": []
    },
    {
      "cell_type": "markdown",
      "metadata": {
        "id": "eRvz1v6jMhpQ",
        "colab_type": "text"
      },
      "source": [
        "# KESIMPULAN dari No 1-17: \n",
        "\n",
        "Simpulkan sendiri-sendiri"
      ]
    },
    {
      "cell_type": "markdown",
      "metadata": {
        "id": "9mAFY8PtM0lC",
        "colab_type": "text"
      },
      "source": [
        "# 18. Berdasarkan Kolom order_date\n",
        "\n",
        "a. ditahun 2014, 2015, 2016, 2017, dan semua tahun, pada hari apa barang banyak dikeluarkan (kolom quantity)\n",
        "\n",
        "b. ditahun 2014, 2015, 2016, 2017, dan semua tahun, pada bulan apa barang banyak dikeluarkan (kolom quantity)"
      ]
    },
    {
      "cell_type": "code",
      "metadata": {
        "id": "9Fsu0iBsMYo5",
        "colab_type": "code",
        "colab": {}
      },
      "source": [
        ""
      ],
      "execution_count": null,
      "outputs": []
    }
  ]
}